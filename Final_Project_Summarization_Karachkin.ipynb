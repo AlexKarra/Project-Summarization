{
  "nbformat": 4,
  "nbformat_minor": 0,
  "metadata": {
    "colab": {
      "provenance": [],
      "gpuType": "T4",
      "authorship_tag": "ABX9TyOT90bnJgBSOXEYHykbruHg",
      "include_colab_link": true
    },
    "kernelspec": {
      "name": "python3",
      "display_name": "Python 3"
    },
    "language_info": {
      "name": "python"
    },
    "widgets": {
      "application/vnd.jupyter.widget-state+json": {
        "0bab5e7b2d2b48ea94d97f7ecfa78fc3": {
          "model_module": "@jupyter-widgets/controls",
          "model_name": "HBoxModel",
          "model_module_version": "1.5.0",
          "state": {
            "_dom_classes": [],
            "_model_module": "@jupyter-widgets/controls",
            "_model_module_version": "1.5.0",
            "_model_name": "HBoxModel",
            "_view_count": null,
            "_view_module": "@jupyter-widgets/controls",
            "_view_module_version": "1.5.0",
            "_view_name": "HBoxView",
            "box_style": "",
            "children": [
              "IPY_MODEL_6e6ed1bc8ce843ffa7c205fe9b10dad7",
              "IPY_MODEL_b4eabe83516a4d11a68d0899e0187112",
              "IPY_MODEL_45f74239ff1e4b098a8b8cc617bdeddd"
            ],
            "layout": "IPY_MODEL_aadff59fc6f849ab801f83304ca8a5c1"
          }
        },
        "6e6ed1bc8ce843ffa7c205fe9b10dad7": {
          "model_module": "@jupyter-widgets/controls",
          "model_name": "HTMLModel",
          "model_module_version": "1.5.0",
          "state": {
            "_dom_classes": [],
            "_model_module": "@jupyter-widgets/controls",
            "_model_module_version": "1.5.0",
            "_model_name": "HTMLModel",
            "_view_count": null,
            "_view_module": "@jupyter-widgets/controls",
            "_view_module_version": "1.5.0",
            "_view_name": "HTMLView",
            "description": "",
            "description_tooltip": null,
            "layout": "IPY_MODEL_4fd903406caf42d6a1941117d4f38a3b",
            "placeholder": "​",
            "style": "IPY_MODEL_b32ced2dbda34aa08a48730e2254a93b",
            "value": "Map: 100%"
          }
        },
        "b4eabe83516a4d11a68d0899e0187112": {
          "model_module": "@jupyter-widgets/controls",
          "model_name": "FloatProgressModel",
          "model_module_version": "1.5.0",
          "state": {
            "_dom_classes": [],
            "_model_module": "@jupyter-widgets/controls",
            "_model_module_version": "1.5.0",
            "_model_name": "FloatProgressModel",
            "_view_count": null,
            "_view_module": "@jupyter-widgets/controls",
            "_view_module_version": "1.5.0",
            "_view_name": "ProgressView",
            "bar_style": "success",
            "description": "",
            "description_tooltip": null,
            "layout": "IPY_MODEL_3f8d51651ad546d9b087a2657c97a152",
            "max": 2400,
            "min": 0,
            "orientation": "horizontal",
            "style": "IPY_MODEL_ec65a201e2d94f549320454f862ed720",
            "value": 2400
          }
        },
        "45f74239ff1e4b098a8b8cc617bdeddd": {
          "model_module": "@jupyter-widgets/controls",
          "model_name": "HTMLModel",
          "model_module_version": "1.5.0",
          "state": {
            "_dom_classes": [],
            "_model_module": "@jupyter-widgets/controls",
            "_model_module_version": "1.5.0",
            "_model_name": "HTMLModel",
            "_view_count": null,
            "_view_module": "@jupyter-widgets/controls",
            "_view_module_version": "1.5.0",
            "_view_name": "HTMLView",
            "description": "",
            "description_tooltip": null,
            "layout": "IPY_MODEL_2d06a3d9f3a346eeaa470027b1232fb6",
            "placeholder": "​",
            "style": "IPY_MODEL_0c7c9c8ab3d043fa9cf733401c42cb8e",
            "value": " 2400/2400 [00:44&lt;00:00, 54.08 examples/s]"
          }
        },
        "aadff59fc6f849ab801f83304ca8a5c1": {
          "model_module": "@jupyter-widgets/base",
          "model_name": "LayoutModel",
          "model_module_version": "1.2.0",
          "state": {
            "_model_module": "@jupyter-widgets/base",
            "_model_module_version": "1.2.0",
            "_model_name": "LayoutModel",
            "_view_count": null,
            "_view_module": "@jupyter-widgets/base",
            "_view_module_version": "1.2.0",
            "_view_name": "LayoutView",
            "align_content": null,
            "align_items": null,
            "align_self": null,
            "border": null,
            "bottom": null,
            "display": null,
            "flex": null,
            "flex_flow": null,
            "grid_area": null,
            "grid_auto_columns": null,
            "grid_auto_flow": null,
            "grid_auto_rows": null,
            "grid_column": null,
            "grid_gap": null,
            "grid_row": null,
            "grid_template_areas": null,
            "grid_template_columns": null,
            "grid_template_rows": null,
            "height": null,
            "justify_content": null,
            "justify_items": null,
            "left": null,
            "margin": null,
            "max_height": null,
            "max_width": null,
            "min_height": null,
            "min_width": null,
            "object_fit": null,
            "object_position": null,
            "order": null,
            "overflow": null,
            "overflow_x": null,
            "overflow_y": null,
            "padding": null,
            "right": null,
            "top": null,
            "visibility": null,
            "width": null
          }
        },
        "4fd903406caf42d6a1941117d4f38a3b": {
          "model_module": "@jupyter-widgets/base",
          "model_name": "LayoutModel",
          "model_module_version": "1.2.0",
          "state": {
            "_model_module": "@jupyter-widgets/base",
            "_model_module_version": "1.2.0",
            "_model_name": "LayoutModel",
            "_view_count": null,
            "_view_module": "@jupyter-widgets/base",
            "_view_module_version": "1.2.0",
            "_view_name": "LayoutView",
            "align_content": null,
            "align_items": null,
            "align_self": null,
            "border": null,
            "bottom": null,
            "display": null,
            "flex": null,
            "flex_flow": null,
            "grid_area": null,
            "grid_auto_columns": null,
            "grid_auto_flow": null,
            "grid_auto_rows": null,
            "grid_column": null,
            "grid_gap": null,
            "grid_row": null,
            "grid_template_areas": null,
            "grid_template_columns": null,
            "grid_template_rows": null,
            "height": null,
            "justify_content": null,
            "justify_items": null,
            "left": null,
            "margin": null,
            "max_height": null,
            "max_width": null,
            "min_height": null,
            "min_width": null,
            "object_fit": null,
            "object_position": null,
            "order": null,
            "overflow": null,
            "overflow_x": null,
            "overflow_y": null,
            "padding": null,
            "right": null,
            "top": null,
            "visibility": null,
            "width": null
          }
        },
        "b32ced2dbda34aa08a48730e2254a93b": {
          "model_module": "@jupyter-widgets/controls",
          "model_name": "DescriptionStyleModel",
          "model_module_version": "1.5.0",
          "state": {
            "_model_module": "@jupyter-widgets/controls",
            "_model_module_version": "1.5.0",
            "_model_name": "DescriptionStyleModel",
            "_view_count": null,
            "_view_module": "@jupyter-widgets/base",
            "_view_module_version": "1.2.0",
            "_view_name": "StyleView",
            "description_width": ""
          }
        },
        "3f8d51651ad546d9b087a2657c97a152": {
          "model_module": "@jupyter-widgets/base",
          "model_name": "LayoutModel",
          "model_module_version": "1.2.0",
          "state": {
            "_model_module": "@jupyter-widgets/base",
            "_model_module_version": "1.2.0",
            "_model_name": "LayoutModel",
            "_view_count": null,
            "_view_module": "@jupyter-widgets/base",
            "_view_module_version": "1.2.0",
            "_view_name": "LayoutView",
            "align_content": null,
            "align_items": null,
            "align_self": null,
            "border": null,
            "bottom": null,
            "display": null,
            "flex": null,
            "flex_flow": null,
            "grid_area": null,
            "grid_auto_columns": null,
            "grid_auto_flow": null,
            "grid_auto_rows": null,
            "grid_column": null,
            "grid_gap": null,
            "grid_row": null,
            "grid_template_areas": null,
            "grid_template_columns": null,
            "grid_template_rows": null,
            "height": null,
            "justify_content": null,
            "justify_items": null,
            "left": null,
            "margin": null,
            "max_height": null,
            "max_width": null,
            "min_height": null,
            "min_width": null,
            "object_fit": null,
            "object_position": null,
            "order": null,
            "overflow": null,
            "overflow_x": null,
            "overflow_y": null,
            "padding": null,
            "right": null,
            "top": null,
            "visibility": null,
            "width": null
          }
        },
        "ec65a201e2d94f549320454f862ed720": {
          "model_module": "@jupyter-widgets/controls",
          "model_name": "ProgressStyleModel",
          "model_module_version": "1.5.0",
          "state": {
            "_model_module": "@jupyter-widgets/controls",
            "_model_module_version": "1.5.0",
            "_model_name": "ProgressStyleModel",
            "_view_count": null,
            "_view_module": "@jupyter-widgets/base",
            "_view_module_version": "1.2.0",
            "_view_name": "StyleView",
            "bar_color": null,
            "description_width": ""
          }
        },
        "2d06a3d9f3a346eeaa470027b1232fb6": {
          "model_module": "@jupyter-widgets/base",
          "model_name": "LayoutModel",
          "model_module_version": "1.2.0",
          "state": {
            "_model_module": "@jupyter-widgets/base",
            "_model_module_version": "1.2.0",
            "_model_name": "LayoutModel",
            "_view_count": null,
            "_view_module": "@jupyter-widgets/base",
            "_view_module_version": "1.2.0",
            "_view_name": "LayoutView",
            "align_content": null,
            "align_items": null,
            "align_self": null,
            "border": null,
            "bottom": null,
            "display": null,
            "flex": null,
            "flex_flow": null,
            "grid_area": null,
            "grid_auto_columns": null,
            "grid_auto_flow": null,
            "grid_auto_rows": null,
            "grid_column": null,
            "grid_gap": null,
            "grid_row": null,
            "grid_template_areas": null,
            "grid_template_columns": null,
            "grid_template_rows": null,
            "height": null,
            "justify_content": null,
            "justify_items": null,
            "left": null,
            "margin": null,
            "max_height": null,
            "max_width": null,
            "min_height": null,
            "min_width": null,
            "object_fit": null,
            "object_position": null,
            "order": null,
            "overflow": null,
            "overflow_x": null,
            "overflow_y": null,
            "padding": null,
            "right": null,
            "top": null,
            "visibility": null,
            "width": null
          }
        },
        "0c7c9c8ab3d043fa9cf733401c42cb8e": {
          "model_module": "@jupyter-widgets/controls",
          "model_name": "DescriptionStyleModel",
          "model_module_version": "1.5.0",
          "state": {
            "_model_module": "@jupyter-widgets/controls",
            "_model_module_version": "1.5.0",
            "_model_name": "DescriptionStyleModel",
            "_view_count": null,
            "_view_module": "@jupyter-widgets/base",
            "_view_module_version": "1.2.0",
            "_view_name": "StyleView",
            "description_width": ""
          }
        },
        "a3eff3b8f3524db59ad829aee66e5b55": {
          "model_module": "@jupyter-widgets/controls",
          "model_name": "HBoxModel",
          "model_module_version": "1.5.0",
          "state": {
            "_dom_classes": [],
            "_model_module": "@jupyter-widgets/controls",
            "_model_module_version": "1.5.0",
            "_model_name": "HBoxModel",
            "_view_count": null,
            "_view_module": "@jupyter-widgets/controls",
            "_view_module_version": "1.5.0",
            "_view_name": "HBoxView",
            "box_style": "",
            "children": [
              "IPY_MODEL_8d4d936bb9fa482899f1b32399049922",
              "IPY_MODEL_6c52b4a316614d01b677bf81dd3c56e2",
              "IPY_MODEL_02a2debab3034bd19b7f8583c79ade56"
            ],
            "layout": "IPY_MODEL_edc1f388647e4b6987d06236340db0e0"
          }
        },
        "8d4d936bb9fa482899f1b32399049922": {
          "model_module": "@jupyter-widgets/controls",
          "model_name": "HTMLModel",
          "model_module_version": "1.5.0",
          "state": {
            "_dom_classes": [],
            "_model_module": "@jupyter-widgets/controls",
            "_model_module_version": "1.5.0",
            "_model_name": "HTMLModel",
            "_view_count": null,
            "_view_module": "@jupyter-widgets/controls",
            "_view_module_version": "1.5.0",
            "_view_name": "HTMLView",
            "description": "",
            "description_tooltip": null,
            "layout": "IPY_MODEL_441172fe4f9941538af80a0cfec0bd6c",
            "placeholder": "​",
            "style": "IPY_MODEL_a12c3b2dbf0e4bc9b4e9633c48a51bae",
            "value": "Map: 100%"
          }
        },
        "6c52b4a316614d01b677bf81dd3c56e2": {
          "model_module": "@jupyter-widgets/controls",
          "model_name": "FloatProgressModel",
          "model_module_version": "1.5.0",
          "state": {
            "_dom_classes": [],
            "_model_module": "@jupyter-widgets/controls",
            "_model_module_version": "1.5.0",
            "_model_name": "FloatProgressModel",
            "_view_count": null,
            "_view_module": "@jupyter-widgets/controls",
            "_view_module_version": "1.5.0",
            "_view_name": "ProgressView",
            "bar_style": "success",
            "description": "",
            "description_tooltip": null,
            "layout": "IPY_MODEL_3f3660f759f44f3a8aea44ebc762c21a",
            "max": 600,
            "min": 0,
            "orientation": "horizontal",
            "style": "IPY_MODEL_00368975465e4362a68de9953e192a08",
            "value": 600
          }
        },
        "02a2debab3034bd19b7f8583c79ade56": {
          "model_module": "@jupyter-widgets/controls",
          "model_name": "HTMLModel",
          "model_module_version": "1.5.0",
          "state": {
            "_dom_classes": [],
            "_model_module": "@jupyter-widgets/controls",
            "_model_module_version": "1.5.0",
            "_model_name": "HTMLModel",
            "_view_count": null,
            "_view_module": "@jupyter-widgets/controls",
            "_view_module_version": "1.5.0",
            "_view_name": "HTMLView",
            "description": "",
            "description_tooltip": null,
            "layout": "IPY_MODEL_0498272eeb2e430ebde671df554a5051",
            "placeholder": "​",
            "style": "IPY_MODEL_0daf0d5857b14cbe88b54f6542ea78c7",
            "value": " 600/600 [00:07&lt;00:00, 84.14 examples/s]"
          }
        },
        "edc1f388647e4b6987d06236340db0e0": {
          "model_module": "@jupyter-widgets/base",
          "model_name": "LayoutModel",
          "model_module_version": "1.2.0",
          "state": {
            "_model_module": "@jupyter-widgets/base",
            "_model_module_version": "1.2.0",
            "_model_name": "LayoutModel",
            "_view_count": null,
            "_view_module": "@jupyter-widgets/base",
            "_view_module_version": "1.2.0",
            "_view_name": "LayoutView",
            "align_content": null,
            "align_items": null,
            "align_self": null,
            "border": null,
            "bottom": null,
            "display": null,
            "flex": null,
            "flex_flow": null,
            "grid_area": null,
            "grid_auto_columns": null,
            "grid_auto_flow": null,
            "grid_auto_rows": null,
            "grid_column": null,
            "grid_gap": null,
            "grid_row": null,
            "grid_template_areas": null,
            "grid_template_columns": null,
            "grid_template_rows": null,
            "height": null,
            "justify_content": null,
            "justify_items": null,
            "left": null,
            "margin": null,
            "max_height": null,
            "max_width": null,
            "min_height": null,
            "min_width": null,
            "object_fit": null,
            "object_position": null,
            "order": null,
            "overflow": null,
            "overflow_x": null,
            "overflow_y": null,
            "padding": null,
            "right": null,
            "top": null,
            "visibility": null,
            "width": null
          }
        },
        "441172fe4f9941538af80a0cfec0bd6c": {
          "model_module": "@jupyter-widgets/base",
          "model_name": "LayoutModel",
          "model_module_version": "1.2.0",
          "state": {
            "_model_module": "@jupyter-widgets/base",
            "_model_module_version": "1.2.0",
            "_model_name": "LayoutModel",
            "_view_count": null,
            "_view_module": "@jupyter-widgets/base",
            "_view_module_version": "1.2.0",
            "_view_name": "LayoutView",
            "align_content": null,
            "align_items": null,
            "align_self": null,
            "border": null,
            "bottom": null,
            "display": null,
            "flex": null,
            "flex_flow": null,
            "grid_area": null,
            "grid_auto_columns": null,
            "grid_auto_flow": null,
            "grid_auto_rows": null,
            "grid_column": null,
            "grid_gap": null,
            "grid_row": null,
            "grid_template_areas": null,
            "grid_template_columns": null,
            "grid_template_rows": null,
            "height": null,
            "justify_content": null,
            "justify_items": null,
            "left": null,
            "margin": null,
            "max_height": null,
            "max_width": null,
            "min_height": null,
            "min_width": null,
            "object_fit": null,
            "object_position": null,
            "order": null,
            "overflow": null,
            "overflow_x": null,
            "overflow_y": null,
            "padding": null,
            "right": null,
            "top": null,
            "visibility": null,
            "width": null
          }
        },
        "a12c3b2dbf0e4bc9b4e9633c48a51bae": {
          "model_module": "@jupyter-widgets/controls",
          "model_name": "DescriptionStyleModel",
          "model_module_version": "1.5.0",
          "state": {
            "_model_module": "@jupyter-widgets/controls",
            "_model_module_version": "1.5.0",
            "_model_name": "DescriptionStyleModel",
            "_view_count": null,
            "_view_module": "@jupyter-widgets/base",
            "_view_module_version": "1.2.0",
            "_view_name": "StyleView",
            "description_width": ""
          }
        },
        "3f3660f759f44f3a8aea44ebc762c21a": {
          "model_module": "@jupyter-widgets/base",
          "model_name": "LayoutModel",
          "model_module_version": "1.2.0",
          "state": {
            "_model_module": "@jupyter-widgets/base",
            "_model_module_version": "1.2.0",
            "_model_name": "LayoutModel",
            "_view_count": null,
            "_view_module": "@jupyter-widgets/base",
            "_view_module_version": "1.2.0",
            "_view_name": "LayoutView",
            "align_content": null,
            "align_items": null,
            "align_self": null,
            "border": null,
            "bottom": null,
            "display": null,
            "flex": null,
            "flex_flow": null,
            "grid_area": null,
            "grid_auto_columns": null,
            "grid_auto_flow": null,
            "grid_auto_rows": null,
            "grid_column": null,
            "grid_gap": null,
            "grid_row": null,
            "grid_template_areas": null,
            "grid_template_columns": null,
            "grid_template_rows": null,
            "height": null,
            "justify_content": null,
            "justify_items": null,
            "left": null,
            "margin": null,
            "max_height": null,
            "max_width": null,
            "min_height": null,
            "min_width": null,
            "object_fit": null,
            "object_position": null,
            "order": null,
            "overflow": null,
            "overflow_x": null,
            "overflow_y": null,
            "padding": null,
            "right": null,
            "top": null,
            "visibility": null,
            "width": null
          }
        },
        "00368975465e4362a68de9953e192a08": {
          "model_module": "@jupyter-widgets/controls",
          "model_name": "ProgressStyleModel",
          "model_module_version": "1.5.0",
          "state": {
            "_model_module": "@jupyter-widgets/controls",
            "_model_module_version": "1.5.0",
            "_model_name": "ProgressStyleModel",
            "_view_count": null,
            "_view_module": "@jupyter-widgets/base",
            "_view_module_version": "1.2.0",
            "_view_name": "StyleView",
            "bar_color": null,
            "description_width": ""
          }
        },
        "0498272eeb2e430ebde671df554a5051": {
          "model_module": "@jupyter-widgets/base",
          "model_name": "LayoutModel",
          "model_module_version": "1.2.0",
          "state": {
            "_model_module": "@jupyter-widgets/base",
            "_model_module_version": "1.2.0",
            "_model_name": "LayoutModel",
            "_view_count": null,
            "_view_module": "@jupyter-widgets/base",
            "_view_module_version": "1.2.0",
            "_view_name": "LayoutView",
            "align_content": null,
            "align_items": null,
            "align_self": null,
            "border": null,
            "bottom": null,
            "display": null,
            "flex": null,
            "flex_flow": null,
            "grid_area": null,
            "grid_auto_columns": null,
            "grid_auto_flow": null,
            "grid_auto_rows": null,
            "grid_column": null,
            "grid_gap": null,
            "grid_row": null,
            "grid_template_areas": null,
            "grid_template_columns": null,
            "grid_template_rows": null,
            "height": null,
            "justify_content": null,
            "justify_items": null,
            "left": null,
            "margin": null,
            "max_height": null,
            "max_width": null,
            "min_height": null,
            "min_width": null,
            "object_fit": null,
            "object_position": null,
            "order": null,
            "overflow": null,
            "overflow_x": null,
            "overflow_y": null,
            "padding": null,
            "right": null,
            "top": null,
            "visibility": null,
            "width": null
          }
        },
        "0daf0d5857b14cbe88b54f6542ea78c7": {
          "model_module": "@jupyter-widgets/controls",
          "model_name": "DescriptionStyleModel",
          "model_module_version": "1.5.0",
          "state": {
            "_model_module": "@jupyter-widgets/controls",
            "_model_module_version": "1.5.0",
            "_model_name": "DescriptionStyleModel",
            "_view_count": null,
            "_view_module": "@jupyter-widgets/base",
            "_view_module_version": "1.2.0",
            "_view_name": "StyleView",
            "description_width": ""
          }
        }
      }
    },
    "accelerator": "GPU"
  },
  "cells": [
    {
      "cell_type": "markdown",
      "metadata": {
        "id": "view-in-github",
        "colab_type": "text"
      },
      "source": [
        "<a href=\"https://colab.research.google.com/github/AlexKarra/Project-Summarization/blob/main/Final_Project_Summarization_Karachkin.ipynb\" target=\"_parent\"><img src=\"https://colab.research.google.com/assets/colab-badge.svg\" alt=\"Open In Colab\"/></a>"
      ]
    },
    {
      "cell_type": "markdown",
      "source": [
        "# **Final Project**\n",
        "\n",
        "**Downstream task:** summarization\n",
        "\n",
        "**Dataset:** https://huggingface.co/datasets/multi_news\n",
        "\n",
        "**Models:**\n",
        "\n",
        "1) https://huggingface.co/t5-small\n",
        "\n",
        "2) https://huggingface.co/facebook/bart-base\n",
        "\n"
      ],
      "metadata": {
        "id": "28GnJz-L7Lno"
      }
    },
    {
      "cell_type": "markdown",
      "source": [
        "**Step 1:** setting up the environment by installing necessary libraries\n",
        "\n"
      ],
      "metadata": {
        "id": "142ct8QzDoxf"
      }
    },
    {
      "cell_type": "code",
      "execution_count": null,
      "metadata": {
        "colab": {
          "base_uri": "https://localhost:8080/"
        },
        "id": "kOUhdsg_6mbu",
        "outputId": "300598ee-07f9-44bf-f234-c70d0277fee4"
      },
      "outputs": [
        {
          "output_type": "stream",
          "name": "stdout",
          "text": [
            "Requirement already satisfied: transformers in /usr/local/lib/python3.10/dist-packages (4.35.2)\n",
            "Requirement already satisfied: datasets in /usr/local/lib/python3.10/dist-packages (2.16.1)\n",
            "Requirement already satisfied: evaluate in /usr/local/lib/python3.10/dist-packages (0.4.1)\n",
            "Requirement already satisfied: rouge_score in /usr/local/lib/python3.10/dist-packages (0.1.2)\n",
            "Requirement already satisfied: accelerate in /usr/local/lib/python3.10/dist-packages (0.26.1)\n",
            "Requirement already satisfied: filelock in /usr/local/lib/python3.10/dist-packages (from transformers) (3.13.1)\n",
            "Requirement already satisfied: huggingface-hub<1.0,>=0.16.4 in /usr/local/lib/python3.10/dist-packages (from transformers) (0.20.3)\n",
            "Requirement already satisfied: numpy>=1.17 in /usr/local/lib/python3.10/dist-packages (from transformers) (1.23.5)\n",
            "Requirement already satisfied: packaging>=20.0 in /usr/local/lib/python3.10/dist-packages (from transformers) (23.2)\n",
            "Requirement already satisfied: pyyaml>=5.1 in /usr/local/lib/python3.10/dist-packages (from transformers) (6.0.1)\n",
            "Requirement already satisfied: regex!=2019.12.17 in /usr/local/lib/python3.10/dist-packages (from transformers) (2023.12.25)\n",
            "Requirement already satisfied: requests in /usr/local/lib/python3.10/dist-packages (from transformers) (2.31.0)\n",
            "Requirement already satisfied: tokenizers<0.19,>=0.14 in /usr/local/lib/python3.10/dist-packages (from transformers) (0.15.1)\n",
            "Requirement already satisfied: safetensors>=0.3.1 in /usr/local/lib/python3.10/dist-packages (from transformers) (0.4.2)\n",
            "Requirement already satisfied: tqdm>=4.27 in /usr/local/lib/python3.10/dist-packages (from transformers) (4.66.1)\n",
            "Requirement already satisfied: pyarrow>=8.0.0 in /usr/local/lib/python3.10/dist-packages (from datasets) (10.0.1)\n",
            "Requirement already satisfied: pyarrow-hotfix in /usr/local/lib/python3.10/dist-packages (from datasets) (0.6)\n",
            "Requirement already satisfied: dill<0.3.8,>=0.3.0 in /usr/local/lib/python3.10/dist-packages (from datasets) (0.3.7)\n",
            "Requirement already satisfied: pandas in /usr/local/lib/python3.10/dist-packages (from datasets) (1.5.3)\n",
            "Requirement already satisfied: xxhash in /usr/local/lib/python3.10/dist-packages (from datasets) (3.4.1)\n",
            "Requirement already satisfied: multiprocess in /usr/local/lib/python3.10/dist-packages (from datasets) (0.70.15)\n",
            "Requirement already satisfied: fsspec[http]<=2023.10.0,>=2023.1.0 in /usr/local/lib/python3.10/dist-packages (from datasets) (2023.6.0)\n",
            "Requirement already satisfied: aiohttp in /usr/local/lib/python3.10/dist-packages (from datasets) (3.9.3)\n",
            "Requirement already satisfied: responses<0.19 in /usr/local/lib/python3.10/dist-packages (from evaluate) (0.18.0)\n",
            "Requirement already satisfied: absl-py in /usr/local/lib/python3.10/dist-packages (from rouge_score) (1.4.0)\n",
            "Requirement already satisfied: nltk in /usr/local/lib/python3.10/dist-packages (from rouge_score) (3.8.1)\n",
            "Requirement already satisfied: six>=1.14.0 in /usr/local/lib/python3.10/dist-packages (from rouge_score) (1.16.0)\n",
            "Requirement already satisfied: psutil in /usr/local/lib/python3.10/dist-packages (from accelerate) (5.9.5)\n",
            "Requirement already satisfied: torch>=1.10.0 in /usr/local/lib/python3.10/dist-packages (from accelerate) (2.1.0+cu121)\n",
            "Requirement already satisfied: aiosignal>=1.1.2 in /usr/local/lib/python3.10/dist-packages (from aiohttp->datasets) (1.3.1)\n",
            "Requirement already satisfied: attrs>=17.3.0 in /usr/local/lib/python3.10/dist-packages (from aiohttp->datasets) (23.2.0)\n",
            "Requirement already satisfied: frozenlist>=1.1.1 in /usr/local/lib/python3.10/dist-packages (from aiohttp->datasets) (1.4.1)\n",
            "Requirement already satisfied: multidict<7.0,>=4.5 in /usr/local/lib/python3.10/dist-packages (from aiohttp->datasets) (6.0.4)\n",
            "Requirement already satisfied: yarl<2.0,>=1.0 in /usr/local/lib/python3.10/dist-packages (from aiohttp->datasets) (1.9.4)\n",
            "Requirement already satisfied: async-timeout<5.0,>=4.0 in /usr/local/lib/python3.10/dist-packages (from aiohttp->datasets) (4.0.3)\n",
            "Requirement already satisfied: typing-extensions>=3.7.4.3 in /usr/local/lib/python3.10/dist-packages (from huggingface-hub<1.0,>=0.16.4->transformers) (4.5.0)\n",
            "Requirement already satisfied: charset-normalizer<4,>=2 in /usr/local/lib/python3.10/dist-packages (from requests->transformers) (3.3.2)\n",
            "Requirement already satisfied: idna<4,>=2.5 in /usr/local/lib/python3.10/dist-packages (from requests->transformers) (3.6)\n",
            "Requirement already satisfied: urllib3<3,>=1.21.1 in /usr/local/lib/python3.10/dist-packages (from requests->transformers) (2.0.7)\n",
            "Requirement already satisfied: certifi>=2017.4.17 in /usr/local/lib/python3.10/dist-packages (from requests->transformers) (2023.11.17)\n",
            "Requirement already satisfied: sympy in /usr/local/lib/python3.10/dist-packages (from torch>=1.10.0->accelerate) (1.12)\n",
            "Requirement already satisfied: networkx in /usr/local/lib/python3.10/dist-packages (from torch>=1.10.0->accelerate) (3.2.1)\n",
            "Requirement already satisfied: jinja2 in /usr/local/lib/python3.10/dist-packages (from torch>=1.10.0->accelerate) (3.1.3)\n",
            "Requirement already satisfied: triton==2.1.0 in /usr/local/lib/python3.10/dist-packages (from torch>=1.10.0->accelerate) (2.1.0)\n",
            "Requirement already satisfied: click in /usr/local/lib/python3.10/dist-packages (from nltk->rouge_score) (8.1.7)\n",
            "Requirement already satisfied: joblib in /usr/local/lib/python3.10/dist-packages (from nltk->rouge_score) (1.3.2)\n",
            "Requirement already satisfied: python-dateutil>=2.8.1 in /usr/local/lib/python3.10/dist-packages (from pandas->datasets) (2.8.2)\n",
            "Requirement already satisfied: pytz>=2020.1 in /usr/local/lib/python3.10/dist-packages (from pandas->datasets) (2023.4)\n",
            "Requirement already satisfied: MarkupSafe>=2.0 in /usr/local/lib/python3.10/dist-packages (from jinja2->torch>=1.10.0->accelerate) (2.1.4)\n",
            "Requirement already satisfied: mpmath>=0.19 in /usr/local/lib/python3.10/dist-packages (from sympy->torch>=1.10.0->accelerate) (1.3.0)\n"
          ]
        }
      ],
      "source": [
        "! pip install transformers datasets evaluate rouge_score accelerate"
      ]
    },
    {
      "cell_type": "markdown",
      "source": [
        "**Step 2:** Loading the dataset"
      ],
      "metadata": {
        "id": "VK-PR7KNDpIq"
      }
    },
    {
      "cell_type": "code",
      "source": [
        "from datasets import load_dataset\n",
        "\n",
        "dataset = load_dataset(\"multi_news\")"
      ],
      "metadata": {
        "colab": {
          "base_uri": "https://localhost:8080/"
        },
        "id": "P_vG1quumOm2",
        "outputId": "185538c7-124d-46ab-ee6e-ebb0d1a6ed58"
      },
      "execution_count": null,
      "outputs": [
        {
          "output_type": "stream",
          "name": "stderr",
          "text": [
            "/usr/local/lib/python3.10/dist-packages/huggingface_hub/utils/_token.py:88: UserWarning: \n",
            "The secret `HF_TOKEN` does not exist in your Colab secrets.\n",
            "To authenticate with the Hugging Face Hub, create a token in your settings tab (https://huggingface.co/settings/tokens), set it as secret in your Google Colab and restart your session.\n",
            "You will be able to reuse this secret in all of your notebooks.\n",
            "Please note that authentication is recommended but still optional to access public models or datasets.\n",
            "  warnings.warn(\n"
          ]
        }
      ]
    },
    {
      "cell_type": "code",
      "source": [
        "# Take a random sample of the dataset\n",
        "sample_size = 3000  # Adjust this to fit the RAM capacity\n",
        "dataset_sampled = dataset['train'].shuffle(seed=42).select(range(sample_size))\n",
        "\n",
        "# Split the sampled dataset into training and testing sets\n",
        "multi_news_split = dataset_sampled.train_test_split(test_size=0.2)"
      ],
      "metadata": {
        "id": "4LR-hRxf2yV3"
      },
      "execution_count": null,
      "outputs": []
    },
    {
      "cell_type": "markdown",
      "source": [
        "Example:"
      ],
      "metadata": {
        "id": "dymOGMZqovhr"
      }
    },
    {
      "cell_type": "code",
      "source": [
        "print(multi_news_split)"
      ],
      "metadata": {
        "colab": {
          "base_uri": "https://localhost:8080/"
        },
        "id": "ZlrPfAzCnG8Z",
        "outputId": "872a2cd7-a87f-4e0f-b93d-266d511a5000"
      },
      "execution_count": null,
      "outputs": [
        {
          "output_type": "stream",
          "name": "stdout",
          "text": [
            "DatasetDict({\n",
            "    train: Dataset({\n",
            "        features: ['document', 'summary'],\n",
            "        num_rows: 2400\n",
            "    })\n",
            "    test: Dataset({\n",
            "        features: ['document', 'summary'],\n",
            "        num_rows: 600\n",
            "    })\n",
            "})\n"
          ]
        }
      ]
    },
    {
      "cell_type": "code",
      "source": [
        "multi_news_split[\"train\"][0]"
      ],
      "metadata": {
        "colab": {
          "base_uri": "https://localhost:8080/"
        },
        "id": "O4nz3av5nG5-",
        "outputId": "9a3d64bd-928e-4fd1-9dba-87187bcc4cb3"
      },
      "execution_count": null,
      "outputs": [
        {
          "output_type": "execute_result",
          "data": {
            "text/plain": [
              "{'document': 'Former U.S. Rep. Anthony Weiner is set to appear in court Friday morning and plead guilty in a sexting case, according to a representative with the U.S. District Court in Manhattan. \\n \\n Weiner, who represented a New York City congressional district, resigned from his House seat in 2011 after he accidentally tweeted an explicit photo of himself that he had intended to send to a supporter. \\n \\n The former congressman allegedly had sexually suggestive online conversations with a 15-year-old girl in 2015. \\n \\n This is a developing story. It will be updated. ||||| “I’ve given this some thought,” he told her. \\n \\n As he paused to brace himself, Mr. Devlin-Brown placed a hand on his lower back to comfort him and a courtroom worker brought over a box of tissues. \\n \\n Mr. Weiner told Judge Preska that from the time he was in Congress through the first half of last year, “I’ve compulsively sought attention from women who contacted me on social media, and I engaged with many of them in both sexual and nonsexual conversation.” \\n \\n “These destructive impulses brought great devastation to my family and friends, and destroyed my life’s dream in public service,” he said. “Yet I remained in denial even as the world around me fell apart.” \\n \\n Reports of the federal investigation surfaced in September after DailyMail.com reported that Mr. Weiner had engaged in an online relationship with the girl, which included explicit messages sent over social media and suggestive texts. \\n \\n It was during the investigation that the F.B.I. seized Mr. Weiner’s electronic devices, including a laptop on which agents found a trove of emails to Ms. Abedin. That discovery led to the surprise announcement in late October by James B. Comey, then the F.B.I. director, that the bureau was conducting a new investigation into Mrs. Clinton’s handling of official email, an inquiry that ended two days before the election, with no charges brought. Mrs. Clinton recently attributed her election loss in part to Mr. Comey’s announcement. \\n \\n After the guilty plea, Joon H. Kim, the acting United States attorney in Manhattan, said, “Weiner’s conduct was not only reprehensible but a federal crime, one for which he is now convicted and will be sentenced.” \\n \\n Mr. Devlin-Brown said that his client had “accepted full responsibility” for his conduct, and that the resolution was “on terms far less severe than could have been sought.” He said Mr. Weiner would have no further comment and “remains focused on his recovery.”',\n",
              " 'summary': \"– Anthony Weiner is headed to federal court Friday morning, and it's possible the trip could result in him becoming a registered sex offender. The New York Times reports that Weiner is expected to plead guilty to one charge of transferring obscene material to a minor. The plea stems from an investigation of his 2016 text exchanges with a 15-year-old girl in North Carolina. The Washington Post also expects a guilty plea. A judge will ultimately determine Weiner's punishment: He could get no jail time at all or up to 10 years, and while the Times says it's likely he'll have to register as a sex offender, that hasn't been decided yet.\"}"
            ]
          },
          "metadata": {},
          "execution_count": 5
        }
      ]
    },
    {
      "cell_type": "markdown",
      "source": [
        "There are two fields that we want to use:\n",
        "\n",
        "- `document`: the text of the article which'll be the input to the model.\n",
        "- `summary`: a condensed version of text which'll be the model target."
      ],
      "metadata": {
        "id": "SX7356Mho3WP"
      }
    },
    {
      "cell_type": "markdown",
      "source": [
        "**Step 3:** Preprocessing the data with the 1st model (https://huggingface.co/t5-small)"
      ],
      "metadata": {
        "id": "eP6JlXu5pe_7"
      }
    },
    {
      "cell_type": "code",
      "source": [
        "from transformers import AutoTokenizer\n",
        "\n",
        "checkpoint = \"t5-small\"\n",
        "tokenizer = AutoTokenizer.from_pretrained(checkpoint)"
      ],
      "metadata": {
        "id": "dObEalMbnG3P"
      },
      "execution_count": null,
      "outputs": []
    },
    {
      "cell_type": "code",
      "source": [
        "prefix = \"summarize: \"\n",
        "\n",
        "\n",
        "def preprocess_function(examples):\n",
        "    inputs = [prefix + doc for doc in examples[\"document\"]]\n",
        "    model_inputs = tokenizer(inputs, max_length=1024, truncation=True)\n",
        "\n",
        "    labels = tokenizer(text_target=examples[\"summary\"], max_length=128, truncation=True)\n",
        "\n",
        "    model_inputs[\"labels\"] = labels[\"input_ids\"]\n",
        "    return model_inputs"
      ],
      "metadata": {
        "id": "9xGcKhVdnG0I"
      },
      "execution_count": null,
      "outputs": []
    },
    {
      "cell_type": "code",
      "source": [
        "tokenized_multi_news = multi_news_split.map(preprocess_function, batched=True)"
      ],
      "metadata": {
        "colab": {
          "base_uri": "https://localhost:8080/",
          "height": 81,
          "referenced_widgets": [
            "0bab5e7b2d2b48ea94d97f7ecfa78fc3",
            "6e6ed1bc8ce843ffa7c205fe9b10dad7",
            "b4eabe83516a4d11a68d0899e0187112",
            "45f74239ff1e4b098a8b8cc617bdeddd",
            "aadff59fc6f849ab801f83304ca8a5c1",
            "4fd903406caf42d6a1941117d4f38a3b",
            "b32ced2dbda34aa08a48730e2254a93b",
            "3f8d51651ad546d9b087a2657c97a152",
            "ec65a201e2d94f549320454f862ed720",
            "2d06a3d9f3a346eeaa470027b1232fb6",
            "0c7c9c8ab3d043fa9cf733401c42cb8e",
            "a3eff3b8f3524db59ad829aee66e5b55",
            "8d4d936bb9fa482899f1b32399049922",
            "6c52b4a316614d01b677bf81dd3c56e2",
            "02a2debab3034bd19b7f8583c79ade56",
            "edc1f388647e4b6987d06236340db0e0",
            "441172fe4f9941538af80a0cfec0bd6c",
            "a12c3b2dbf0e4bc9b4e9633c48a51bae",
            "3f3660f759f44f3a8aea44ebc762c21a",
            "00368975465e4362a68de9953e192a08",
            "0498272eeb2e430ebde671df554a5051",
            "0daf0d5857b14cbe88b54f6542ea78c7"
          ]
        },
        "id": "KLjtp3rInGxH",
        "outputId": "72f0046b-93d5-469e-c5b5-2d8239eb8675"
      },
      "execution_count": null,
      "outputs": [
        {
          "output_type": "display_data",
          "data": {
            "text/plain": [
              "Map:   0%|          | 0/2400 [00:00<?, ? examples/s]"
            ],
            "application/vnd.jupyter.widget-view+json": {
              "version_major": 2,
              "version_minor": 0,
              "model_id": "0bab5e7b2d2b48ea94d97f7ecfa78fc3"
            }
          },
          "metadata": {}
        },
        {
          "output_type": "display_data",
          "data": {
            "text/plain": [
              "Map:   0%|          | 0/600 [00:00<?, ? examples/s]"
            ],
            "application/vnd.jupyter.widget-view+json": {
              "version_major": 2,
              "version_minor": 0,
              "model_id": "a3eff3b8f3524db59ad829aee66e5b55"
            }
          },
          "metadata": {}
        }
      ]
    },
    {
      "cell_type": "code",
      "source": [
        "from transformers import DataCollatorForSeq2Seq\n",
        "\n",
        "data_collator = DataCollatorForSeq2Seq(tokenizer=tokenizer, model=checkpoint)"
      ],
      "metadata": {
        "id": "HiY0L3YQnGuY"
      },
      "execution_count": null,
      "outputs": []
    },
    {
      "cell_type": "markdown",
      "source": [
        "**Step 4:** Evaluate the model's performance"
      ],
      "metadata": {
        "id": "NvaKYOFMrx5O"
      }
    },
    {
      "cell_type": "code",
      "source": [
        "import evaluate\n",
        "\n",
        "rouge = evaluate.load(\"rouge\")"
      ],
      "metadata": {
        "id": "Fnxemjp7nGrX"
      },
      "execution_count": null,
      "outputs": []
    },
    {
      "cell_type": "code",
      "source": [
        "import numpy as np\n",
        "\n",
        "\n",
        "def compute_metrics(eval_pred):\n",
        "    predictions, labels = eval_pred\n",
        "    decoded_preds = tokenizer.batch_decode(predictions, skip_special_tokens=True)\n",
        "    labels = np.where(labels != -100, labels, tokenizer.pad_token_id)\n",
        "    decoded_labels = tokenizer.batch_decode(labels, skip_special_tokens=True)\n",
        "\n",
        "    result = rouge.compute(predictions=decoded_preds, references=decoded_labels, use_stemmer=True)\n",
        "\n",
        "    prediction_lens = [np.count_nonzero(pred != tokenizer.pad_token_id) for pred in predictions]\n",
        "    result[\"gen_len\"] = np.mean(prediction_lens)\n",
        "\n",
        "    return {k: round(v, 4) for k, v in result.items()}"
      ],
      "metadata": {
        "id": "WrVn8i7rnGoX"
      },
      "execution_count": null,
      "outputs": []
    },
    {
      "cell_type": "markdown",
      "source": [
        "**Step 5:** Training the model"
      ],
      "metadata": {
        "id": "fBjB12dtscVH"
      }
    },
    {
      "cell_type": "code",
      "source": [
        "from transformers import AutoModelForSeq2SeqLM, Seq2SeqTrainingArguments, Seq2SeqTrainer\n",
        "\n",
        "model = AutoModelForSeq2SeqLM.from_pretrained(checkpoint)"
      ],
      "metadata": {
        "id": "sWRq5l2NnGlW"
      },
      "execution_count": null,
      "outputs": []
    },
    {
      "cell_type": "code",
      "source": [
        "training_args = Seq2SeqTrainingArguments(\n",
        "    output_dir=\"my_multi_news_model\",\n",
        "    evaluation_strategy=\"epoch\",\n",
        "    learning_rate=2e-5,\n",
        "    per_device_train_batch_size=16,\n",
        "    per_device_eval_batch_size=16,\n",
        "    weight_decay=0.01,\n",
        "    save_total_limit=3,\n",
        "    num_train_epochs=6,\n",
        "    predict_with_generate=True,\n",
        "    fp16=True,\n",
        ")\n",
        "\n",
        "trainer = Seq2SeqTrainer(\n",
        "    model=model,\n",
        "    args=training_args,\n",
        "    train_dataset=tokenized_multi_news[\"train\"],\n",
        "    eval_dataset=tokenized_multi_news[\"test\"],\n",
        "    tokenizer=tokenizer,\n",
        "    data_collator=data_collator,\n",
        "    compute_metrics=compute_metrics,\n",
        ")\n",
        "\n",
        "trainer.train()"
      ],
      "metadata": {
        "colab": {
          "base_uri": "https://localhost:8080/",
          "height": 368
        },
        "id": "k1TDPoC0nGfk",
        "outputId": "a46429c8-613f-4227-9c2f-3dc48bdd4fa9"
      },
      "execution_count": null,
      "outputs": [
        {
          "output_type": "stream",
          "name": "stderr",
          "text": [
            "You're using a T5TokenizerFast tokenizer. Please note that with a fast tokenizer, using the `__call__` method is faster than using a method to encode the text followed by a call to the `pad` method to get a padded encoding.\n"
          ]
        },
        {
          "output_type": "display_data",
          "data": {
            "text/plain": [
              "<IPython.core.display.HTML object>"
            ],
            "text/html": [
              "\n",
              "    <div>\n",
              "      \n",
              "      <progress value='900' max='900' style='width:300px; height:20px; vertical-align: middle;'></progress>\n",
              "      [900/900 16:49, Epoch 6/6]\n",
              "    </div>\n",
              "    <table border=\"1\" class=\"dataframe\">\n",
              "  <thead>\n",
              " <tr style=\"text-align: left;\">\n",
              "      <th>Epoch</th>\n",
              "      <th>Training Loss</th>\n",
              "      <th>Validation Loss</th>\n",
              "      <th>Rouge1</th>\n",
              "      <th>Rouge2</th>\n",
              "      <th>Rougel</th>\n",
              "      <th>Rougelsum</th>\n",
              "      <th>Gen Len</th>\n",
              "    </tr>\n",
              "  </thead>\n",
              "  <tbody>\n",
              "    <tr>\n",
              "      <td>1</td>\n",
              "      <td>No log</td>\n",
              "      <td>3.019397</td>\n",
              "      <td>0.136400</td>\n",
              "      <td>0.040400</td>\n",
              "      <td>0.104200</td>\n",
              "      <td>0.104000</td>\n",
              "      <td>18.970000</td>\n",
              "    </tr>\n",
              "    <tr>\n",
              "      <td>2</td>\n",
              "      <td>No log</td>\n",
              "      <td>2.925789</td>\n",
              "      <td>0.134900</td>\n",
              "      <td>0.040000</td>\n",
              "      <td>0.103900</td>\n",
              "      <td>0.103700</td>\n",
              "      <td>18.970000</td>\n",
              "    </tr>\n",
              "    <tr>\n",
              "      <td>3</td>\n",
              "      <td>No log</td>\n",
              "      <td>2.885651</td>\n",
              "      <td>0.137200</td>\n",
              "      <td>0.040400</td>\n",
              "      <td>0.105600</td>\n",
              "      <td>0.105400</td>\n",
              "      <td>18.970000</td>\n",
              "    </tr>\n",
              "    <tr>\n",
              "      <td>4</td>\n",
              "      <td>3.279000</td>\n",
              "      <td>2.865026</td>\n",
              "      <td>0.138000</td>\n",
              "      <td>0.041200</td>\n",
              "      <td>0.106200</td>\n",
              "      <td>0.106000</td>\n",
              "      <td>18.973300</td>\n",
              "    </tr>\n",
              "    <tr>\n",
              "      <td>5</td>\n",
              "      <td>3.279000</td>\n",
              "      <td>2.857102</td>\n",
              "      <td>0.137000</td>\n",
              "      <td>0.040700</td>\n",
              "      <td>0.105300</td>\n",
              "      <td>0.105100</td>\n",
              "      <td>18.973300</td>\n",
              "    </tr>\n",
              "    <tr>\n",
              "      <td>6</td>\n",
              "      <td>3.279000</td>\n",
              "      <td>2.854283</td>\n",
              "      <td>0.137500</td>\n",
              "      <td>0.040900</td>\n",
              "      <td>0.105400</td>\n",
              "      <td>0.105200</td>\n",
              "      <td>18.973300</td>\n",
              "    </tr>\n",
              "  </tbody>\n",
              "</table><p>"
            ]
          },
          "metadata": {}
        },
        {
          "output_type": "stream",
          "name": "stderr",
          "text": [
            "/usr/local/lib/python3.10/dist-packages/transformers/generation/utils.py:1273: UserWarning: Using the model-agnostic default `max_length` (=20) to control the generation length. We recommend setting `max_new_tokens` to control the maximum length of the generation.\n",
            "  warnings.warn(\n",
            "/usr/local/lib/python3.10/dist-packages/transformers/generation/utils.py:1273: UserWarning: Using the model-agnostic default `max_length` (=20) to control the generation length. We recommend setting `max_new_tokens` to control the maximum length of the generation.\n",
            "  warnings.warn(\n"
          ]
        },
        {
          "output_type": "execute_result",
          "data": {
            "text/plain": [
              "TrainOutput(global_step=900, training_loss=3.1831507703993056, metrics={'train_runtime': 1010.8425, 'train_samples_per_second': 14.246, 'train_steps_per_second': 0.89, 'total_flos': 3897843882393600.0, 'train_loss': 3.1831507703993056, 'epoch': 6.0})"
            ]
          },
          "metadata": {},
          "execution_count": 13
        }
      ]
    },
    {
      "cell_type": "markdown",
      "source": [
        "Some statistics:"
      ],
      "metadata": {
        "id": "NuVj10pDKCnV"
      }
    },
    {
      "cell_type": "code",
      "source": [
        "import matplotlib.pyplot as plt\n",
        "\n",
        "# Extracting the training and validation loss\n",
        "train_losses = [log['loss'] for log in trainer.state.log_history if 'loss' in log and 'runtime' not in log]\n",
        "validation_losses = [log['eval_loss'] for log in trainer.state.log_history if 'eval_loss' in log]\n",
        "\n",
        "# Plotting the losses\n",
        "plt.figure(figsize=(12, 8))\n",
        "\n",
        "# Plot training loss\n",
        "plt.plot(train_losses, label='Training Loss')\n",
        "\n",
        "# Since validation loss is calculated at the end of each epoch,\n",
        "# we'll plot it against the corresponding epochs.\n",
        "epochs = range(1, len(validation_losses) + 1)\n",
        "plt.plot(epochs, validation_losses, label='Validation Loss', marker='o')\n",
        "\n",
        "plt.title('Training and Validation Loss')\n",
        "plt.xlabel('Training Steps' if len(train_losses) > len(epochs) else 'Epochs')\n",
        "plt.ylabel('Loss')\n",
        "plt.legend()\n",
        "plt.grid(True)\n",
        "plt.show()"
      ],
      "metadata": {
        "colab": {
          "base_uri": "https://localhost:8080/",
          "height": 718
        },
        "id": "xizXS1XcKCHl",
        "outputId": "2d6ea744-bb4f-4d28-a9ad-3fcde4ee0805"
      },
      "execution_count": null,
      "outputs": [
        {
          "output_type": "display_data",
          "data": {
            "text/plain": [
              "<Figure size 1200x800 with 1 Axes>"
            ],
            "image/png": "[encoded data removed]"
          },
          "metadata": {}
        }
      ]
    },
    {
      "cell_type": "markdown",
      "source": [
        "Modifying the hyperparameters..."
      ],
      "metadata": {
        "id": "I4dvWF8veuTu"
      }
    },
    {
      "cell_type": "code",
      "source": [
        "training_args = Seq2SeqTrainingArguments(\n",
        "    output_dir=\"my_multi_news_model_2\",\n",
        "    evaluation_strategy=\"epoch\",\n",
        "    learning_rate=3e-5,\n",
        "    per_device_train_batch_size=8,\n",
        "    per_device_eval_batch_size=8,\n",
        "    weight_decay=0.01,\n",
        "    save_steps=200,\n",
        "    eval_steps=200,\n",
        "    save_total_limit=3,\n",
        "    num_train_epochs=4,\n",
        "    predict_with_generate=True,\n",
        "    fp16=True,\n",
        ")\n",
        "\n",
        "trainer = Seq2SeqTrainer(\n",
        "    model=model,\n",
        "    args=training_args,\n",
        "    train_dataset=tokenized_multi_news[\"train\"],\n",
        "    eval_dataset=tokenized_multi_news[\"test\"],\n",
        "    tokenizer=tokenizer,\n",
        "    data_collator=data_collator,\n",
        "    compute_metrics=compute_metrics,\n",
        ")\n",
        "\n",
        "trainer.train()"
      ],
      "metadata": {
        "colab": {
          "base_uri": "https://localhost:8080/",
          "height": 357
        },
        "id": "RZ0t0KeFVQsG",
        "outputId": "eb1f3593-e93e-4713-b81c-499482261aac"
      },
      "execution_count": null,
      "outputs": [
        {
          "output_type": "display_data",
          "data": {
            "text/plain": [
              "<IPython.core.display.HTML object>"
            ],
            "text/html": [
              "\n",
              "    <div>\n",
              "      \n",
              "      <progress value='1200' max='1200' style='width:300px; height:20px; vertical-align: middle;'></progress>\n",
              "      [1200/1200 13:39, Epoch 4/4]\n",
              "    </div>\n",
              "    <table border=\"1\" class=\"dataframe\">\n",
              "  <thead>\n",
              " <tr style=\"text-align: left;\">\n",
              "      <th>Epoch</th>\n",
              "      <th>Training Loss</th>\n",
              "      <th>Validation Loss</th>\n",
              "      <th>Rouge1</th>\n",
              "      <th>Rouge2</th>\n",
              "      <th>Rougel</th>\n",
              "      <th>Rougelsum</th>\n",
              "      <th>Gen Len</th>\n",
              "    </tr>\n",
              "  </thead>\n",
              "  <tbody>\n",
              "    <tr>\n",
              "      <td>1</td>\n",
              "      <td>No log</td>\n",
              "      <td>2.807188</td>\n",
              "      <td>0.141800</td>\n",
              "      <td>0.042800</td>\n",
              "      <td>0.108100</td>\n",
              "      <td>0.107900</td>\n",
              "      <td>18.973300</td>\n",
              "    </tr>\n",
              "    <tr>\n",
              "      <td>2</td>\n",
              "      <td>3.016900</td>\n",
              "      <td>2.791255</td>\n",
              "      <td>0.143100</td>\n",
              "      <td>0.043400</td>\n",
              "      <td>0.109300</td>\n",
              "      <td>0.109100</td>\n",
              "      <td>18.973300</td>\n",
              "    </tr>\n",
              "    <tr>\n",
              "      <td>3</td>\n",
              "      <td>3.016900</td>\n",
              "      <td>2.779987</td>\n",
              "      <td>0.144600</td>\n",
              "      <td>0.043800</td>\n",
              "      <td>0.110300</td>\n",
              "      <td>0.110300</td>\n",
              "      <td>18.973300</td>\n",
              "    </tr>\n",
              "    <tr>\n",
              "      <td>4</td>\n",
              "      <td>2.946000</td>\n",
              "      <td>2.777808</td>\n",
              "      <td>0.144800</td>\n",
              "      <td>0.043700</td>\n",
              "      <td>0.110500</td>\n",
              "      <td>0.110300</td>\n",
              "      <td>18.973300</td>\n",
              "    </tr>\n",
              "  </tbody>\n",
              "</table><p>"
            ]
          },
          "metadata": {}
        },
        {
          "output_type": "stream",
          "name": "stderr",
          "text": [
            "/usr/local/lib/python3.10/dist-packages/transformers/generation/utils.py:1273: UserWarning: Using the model-agnostic default `max_length` (=20) to control the generation length. We recommend setting `max_new_tokens` to control the maximum length of the generation.\n",
            "  warnings.warn(\n",
            "/usr/local/lib/python3.10/dist-packages/transformers/generation/utils.py:1273: UserWarning: Using the model-agnostic default `max_length` (=20) to control the generation length. We recommend setting `max_new_tokens` to control the maximum length of the generation.\n",
            "  warnings.warn(\n",
            "/usr/local/lib/python3.10/dist-packages/transformers/generation/utils.py:1273: UserWarning: Using the model-agnostic default `max_length` (=20) to control the generation length. We recommend setting `max_new_tokens` to control the maximum length of the generation.\n",
            "  warnings.warn(\n",
            "/usr/local/lib/python3.10/dist-packages/transformers/generation/utils.py:1273: UserWarning: Using the model-agnostic default `max_length` (=20) to control the generation length. We recommend setting `max_new_tokens` to control the maximum length of the generation.\n",
            "  warnings.warn(\n"
          ]
        },
        {
          "output_type": "execute_result",
          "data": {
            "text/plain": [
              "TrainOutput(global_step=1200, training_loss=2.9755343119303386, metrics={'train_runtime': 819.939, 'train_samples_per_second': 11.708, 'train_steps_per_second': 1.464, 'total_flos': 2598562588262400.0, 'train_loss': 2.9755343119303386, 'epoch': 4.0})"
            ]
          },
          "metadata": {},
          "execution_count": 15
        }
      ]
    },
    {
      "cell_type": "markdown",
      "source": [
        "Some statistics:"
      ],
      "metadata": {
        "id": "H7wLgq6YKGX0"
      }
    },
    {
      "cell_type": "code",
      "source": [
        "import matplotlib.pyplot as plt\n",
        "\n",
        "# Extracting the training and validation loss\n",
        "train_losses = [log['loss'] for log in trainer.state.log_history if 'loss' in log and 'runtime' not in log]\n",
        "validation_losses = [log['eval_loss'] for log in trainer.state.log_history if 'eval_loss' in log]\n",
        "\n",
        "# Plotting the losses\n",
        "plt.figure(figsize=(12, 8))\n",
        "\n",
        "# Plot training loss\n",
        "plt.plot(train_losses, label='Training Loss')\n",
        "\n",
        "# Since validation loss is calculated at the end of each epoch,\n",
        "# we'll plot it against the corresponding epochs.\n",
        "epochs = range(1, len(validation_losses) + 1)\n",
        "plt.plot(epochs, validation_losses, label='Validation Loss', marker='o')\n",
        "\n",
        "plt.title('Training and Validation Loss')\n",
        "plt.xlabel('Training Steps' if len(train_losses) > len(epochs) else 'Epochs')\n",
        "plt.ylabel('Loss')\n",
        "plt.legend()\n",
        "plt.grid(True)\n",
        "plt.show()"
      ],
      "metadata": {
        "colab": {
          "base_uri": "https://localhost:8080/",
          "height": 718
        },
        "id": "l3reXK7JKGDP",
        "outputId": "d330da26-4f36-46b4-f0c5-7184485ffe43"
      },
      "execution_count": null,
      "outputs": [
        {
          "output_type": "display_data",
          "data": {
            "text/plain": [
              "<Figure size 1200x800 with 1 Axes>"
            ],
            "image/png": "[encoded data removed]"
          },
          "metadata": {}
        }
      ]
    },
    {
      "cell_type": "markdown",
      "source": [
        "**Step 6:** Inference with the second (modified) model **my_multi_news_model_2**"
      ],
      "metadata": {
        "id": "G3g9Gl969Tio"
      }
    },
    {
      "cell_type": "code",
      "source": [
        "import os\n",
        "\n",
        "# Check the current working directory\n",
        "print(\"Current Directory:\", os.getcwd())\n",
        "\n",
        "# Files in the model directory - to find out the most recent checkpoint:\n",
        "model_dir = \"./my_multi_news_model_2\"\n",
        "print(\"Files in model directory:\", os.listdir(model_dir))"
      ],
      "metadata": {
        "id": "AliUY-BRgo_p",
        "colab": {
          "base_uri": "https://localhost:8080/"
        },
        "outputId": "835dede0-9cd6-46a4-cfaf-bad9e06778d3"
      },
      "execution_count": null,
      "outputs": [
        {
          "output_type": "stream",
          "name": "stdout",
          "text": [
            "Current Directory: /content\n",
            "Files in model directory: ['checkpoint-800', 'runs', 'checkpoint-1200', 'checkpoint-1000']\n"
          ]
        }
      ]
    },
    {
      "cell_type": "code",
      "source": [
        "model_dir = \"./my_multi_news_model_2/checkpoint-1200\"\n",
        "print(\"Files in model directory:\", os.listdir(model_dir))"
      ],
      "metadata": {
        "id": "tXMgZe-XfAXY",
        "colab": {
          "base_uri": "https://localhost:8080/"
        },
        "outputId": "1c78ac28-e544-4545-c674-8a86f5430a8b"
      },
      "execution_count": null,
      "outputs": [
        {
          "output_type": "stream",
          "name": "stdout",
          "text": [
            "Files in model directory: ['model.safetensors', 'config.json', 'tokenizer_config.json', 'rng_state.pth', 'tokenizer.json', 'spiece.model', 'trainer_state.json', 'training_args.bin', 'scheduler.pt', 'special_tokens_map.json', 'generation_config.json', 'optimizer.pt']\n"
          ]
        }
      ]
    },
    {
      "cell_type": "code",
      "source": [
        "from transformers import pipeline, AutoTokenizer, AutoModelForSeq2SeqLM\n",
        "\n",
        "model_path = \"./my_multi_news_model_2/checkpoint-1200\"\n",
        "\n",
        "model = AutoModelForSeq2SeqLM.from_pretrained(model_path)\n",
        "tokenizer = AutoTokenizer.from_pretrained(model_path)\n",
        "\n",
        "# Initialize the pipeline with your trained model and tokenizer\n",
        "summarizer = pipeline(\"summarization\", model=model, tokenizer=tokenizer)\n",
        "\n",
        "sample_text = dataset['validation'][0]['document']\n",
        "\n",
        "summary = summarizer(sample_text, max_length=150, min_length=40, length_penalty=2.0, num_beams=4, early_stopping=True)\n",
        "\n",
        "# Print the original text and summary\n",
        "print(\"Original Text:\\n\", sample_text)\n",
        "print(\"\\nGenerated Summary:\\n\", summary[0]['summary_text'])"
      ],
      "metadata": {
        "id": "zr3Acy2xeRJo",
        "colab": {
          "base_uri": "https://localhost:8080/"
        },
        "outputId": "f5b15eed-d86d-4ae6-8b2d-fa3284b374ad"
      },
      "execution_count": null,
      "outputs": [
        {
          "output_type": "stream",
          "name": "stderr",
          "text": [
            "Token indices sequence length is longer than the specified maximum sequence length for this model (2327 > 512). Running this sequence through the model will result in indexing errors\n"
          ]
        },
        {
          "output_type": "stream",
          "name": "stdout",
          "text": [
            "Original Text:\n",
            " Whether a sign of a good read; or a comment on the 'pulp' nature of some genres of fiction, the Oxfam second-hand book charts have remained in The Da Vinci Code author's favour for the past four years. \n",
            " \n",
            " Dan Brown has topped Oxfam's 'most donated' list again, his fourth consecutive year. Having sold more than 80 million copies of The Da Vinci Code and had all four of his novels on the New York Times bestseller list in the same week, it's hardly surprising that Brown's hefty tomes are being donated to charity by readers keen to make some room on their shelves. \n",
            " \n",
            " Another cult crime writer responsible to heavy-weight hardbacks, Stieg Larsson, is Oxfam's 'most sold' author for the second time in a row. Both the 'most donated' and 'most sold' lists are dominated by crime fiction, trilogies and fantasy, with JK Rowling the only female author listed in either of the Top Fives. \n",
            " \n",
            " Click here or on \"View Gallery\" to see both charts in pictures ||||| A woman reads a copy of the newly released book ''The Lost Symbol'' by Dan Brown, at a speed reading book launch event in Sydney, September 15, 2009. REUTERS/Tim Wimborne \n",
            " \n",
            " SAN FRANCISCO The latest novel from \"Da Vinci Code\" author Dan Brown, \"The Lost Symbol,\" broke one-day sales records, its publisher and booksellers said. \n",
            " \n",
            " Readers snapped up over one million hardcover copies across the United States, Canada and the United Kingdom after it was released on Tuesday, said publisher Knopf Doubleday, a division of Random House Inc. \n",
            " \n",
            " \"We are seeing historic, record-breaking sales across all types of our accounts in North America for 'The Lost Symbol,\" said Sonny Mehta, editor in chief of Knopf Doubleday Publishing Group. Knopf Doubleday is a division of Random House Inc. \n",
            " \n",
            " Amazon.com Inc, the world's largest online retailer, called the book its bestselling first-day adult fiction title ever, including pre-orders. \n",
            " \n",
            " Barnes & Noble Inc said \"The Lost Symbol\" broke its previous one-day sales record for adult fiction. \n",
            " \n",
            " The success of the Dan Brown's latest is a boost to publisher Knopf Doubleday and booksellers, which have endured sliding sales in the midst of the recession. \n",
            " \n",
            " Booksellers have anxiously awaited a popular title that will resonate with readers and fuel the same sort of frenzy seen earlier this decade with the \"Harry Potter\" series, from author J.K. Rowling. \n",
            " \n",
            " But the $25 billion domestic book market has wallowed in a slump in recent years as more readers make their purchases online, or forego books altogether for online games and other forms of media and entertainment. \n",
            " \n",
            " Now, digital books and electronic reading devices such as Amazon's Kindle or Sony Corp's Reader are seen as both avenues of growth and sources of competition for traditional media, and publishers and booksellers are scrambling to respond. \n",
            " \n",
            " The highly anticipated book from Brown comes six years after the release of the American novelist's last book \"The Da Vinci Code\". It follows the adventures of Harvard professor Robert Langdon and is set in the secret world of Freemasons in Washington D.C. \n",
            " \n",
            " \"The Da Vinci Code\" sold 80 million copies worldwide. It was made into a film starring Tom Hanks that grossed more than $758 million, according to tracking firm Box Office Mojo. \n",
            " \n",
            " Shares of Amazon closed up $7.15 to $90.70 on the Nasdaq. Amazon was upgraded to a \"Buy\" rating by Bank of America Merrill Lynch, which cited a resurgence in e-commerce that would benefit the Seattle-based company. \n",
            " \n",
            " Barnes & Noble closed up 14 cents to $22.04 and book retailer Borders Group Inc closed up 2 cents to $3.29, on the New York Stock Exchange. \n",
            " \n",
            " (Reporting by Alexandria Sage; editing by Carol Bishopric) ||||| Bestselling author is also the most frequently given away to charity shops \n",
            " \n",
            " Dan Brown might be one of the world's bestselling authors but it turns out that readers aren't too keen on keeping his special blend of religious conspiracy and scholarly derring-do on their shelves once they've bought it. \n",
            " \n",
            " Brown, who has sold more than 81m copies of The Da Vinci Code worldwide, has been revealed as the most donated author to Oxfam's 700 high street shops. With just four books to his name – although his long-awaited fifth The Lost Symbol is published next month – Brown did well to see off competition from John Grisham, author of more than 20 and the second-most likely writer to be ditched in a charity shop by readers. \n",
            " \n",
            " But as secondhand bookshop shelves flood with battered editions of Angels and Demons and Digital Fortress, Brown can comfort himself with the fact that he's also Oxfam's second most bought author: there are, apparently, still readers out there who have yet to follow the adventures of the dapper symbologist Robert Langdon. There's no such consolation for Grisham, whose legal thrillers fail to make Oxfam's bestseller charts at all. \n",
            " \n",
            " \"There's no question that when you go into the back room of Oxfam shops there are many Dan Brown books,\" said Oxfam's director of trading David McCullough. \"But he's also very high on the bestseller list so there is a useful recycling exercise going on – it's not just people saying 'I've read The Da Vinci Code and now I must get rid of it'.\" \n",
            " \n",
            " Ian Rankin, whose dour, boozy detective John Rebus is no Robert Langdon, tops Oxfam's bestseller list, which the charity says is the first ever high-street secondhand bestseller chart. \"It's always good for an author to know that their books are popular,\" said the Scottish author, who will unveil a new policeman hero, the teetotal Malcolm Fox, next month. \"With Oxfam, it's also heartening to realise that each book donated and bought is helping such a worthwhile organisation.\" \n",
            " \n",
            " Stephenie Meyer, author of the Twilight series and instigator of myriad teenage crushes courtesy of her sparkly vampire hero Edward Cullen, is also sitting high in Oxfam's charts, nestling between Bernard Cornwell and Terry Pratchett. \n",
            " \n",
            " Margaret Atwood, meanwhile, winner of the Booker prize and author of a host of critically acclaimed works of fiction, scrapes into the list in eighth place, keeping unlikely company with thriller powerhouse James Patterson – currently producing at least eight books a year thanks to a horde of co-writers – and Jodi Picoult, never afraid to jerk a tear or pile on the plot twists. \n",
            " \n",
            " \"We just need to dispel the idea that we are sitting there in Oxfam with only first editions of literary gems – actually we've got shelves of really good fiction,\" said McCullough. \"Waterstone's might be more upset than secondhand booksellers,\" he added, referring to the recent slew of complaints from secondhand booksellers that the charity is stealing their business. \n",
            " \n",
            " Oxfam, Europe's biggest high-street retailer of secondhand books and the third-biggest bookseller in the UK, launched a drive for book donations in May ahead of its first national book festival, Bookfest, in July. Authors including Joanna Trollope, Philip Pullman and Jonathan Coe all lent a hand in shops across the country as part of the festival, and the drive saw book donations rise 40%, with sales up by more than 10%. \n",
            " \n",
            " Rare books and first editions have also been pouring into shops since May. Ten of the most sought-after editions have raised more than £4,500 for the charity between them. A first edition of Lord of the Rings sold for £800, a first edition of Watership Down brought in £500, Sylvia Plath's Ariel sold for £350, Ian Fleming's From Russia With Love for £300 and a second printing of Martin Chuzzlewit for £200. \n",
            " \n",
            " Oxfam, which has more than 130 specialist bookshops and stocks books in almost all of its 700 stores, sells £1.6m-worth of books a month – equivalent, it says, to 50,000 emergency shelters, 64,000 goats or safe water for 2.1 million people. \n",
            " \n",
            " The most donated authors to Oxfam shops so far this year: \n",
            " \n",
            " 1. Dan Brown \n",
            " \n",
            " 2. John Grisham \n",
            " \n",
            " 3. Ian Rankin \n",
            " \n",
            " 4. Danielle Steel \n",
            " \n",
            " 5. Helen Fielding \n",
            " \n",
            " 6. Stephen King \n",
            " \n",
            " 7. JK Rowling \n",
            " \n",
            " 8. Catherine Cookson \n",
            " \n",
            " 9. Patricia Cornwell \n",
            " \n",
            " 10. Mills & Boon \n",
            " \n",
            " The Oxfam shop bestseller list: \n",
            " \n",
            " 1. Ian Rankin \n",
            " \n",
            " 2. Dan Brown \n",
            " \n",
            " 3. Bernard Cornwell \n",
            " \n",
            " 4. Stephanie Meyer \n",
            " \n",
            " 5. Terry Pratchett \n",
            " \n",
            " 6. Khaled Hosseini \n",
            " \n",
            " 7. Helen Fielding \n",
            " \n",
            " 8. Margaret Atwood \n",
            " \n",
            " 9. James Patterson \n",
            " \n",
            " 10. Jodi Picoult \n",
            " \n",
            " The top 10 most valuable donated books since May: \n",
            " \n",
            " 1. JRR Tolkien, Lord of the Rings – first edition, sold for £800 \n",
            " \n",
            " 2. Don Giovanni sheet music – first edition, sold for £750 \n",
            " \n",
            " 3. Sowerby's Catalogue of Shells – sold for £600 \n",
            " \n",
            " 4. Richard Adams, Watership Down – first edition, sold for £500 \n",
            " \n",
            " 5. Handbook of Indian Dances - first edition with hand-blocked prints, sold for £500 \n",
            " \n",
            " 6. Richmal Crompton, Just William - first edition, sold for £440 \n",
            " \n",
            " 7. Sylvia Plath, Ariel – first edition, sold for £350 \n",
            " \n",
            " 8. Ian Fleming, From Russia With Love – first edition, sold for £300 \n",
            " \n",
            " 9. Charles Dickens, Martin Chuzzlewit – second print, sold for £200 \n",
            " \n",
            " 10. WE Johns, Biggles in Australia – first edition, sold for £150 ||||| A charity shop is urging people to stop donating The Da Vinci Code after becoming overwhelmed with copies. \n",
            " \n",
            " The Oxfam shop in Swansea has been receiving an average of one copy of the Dan Brown novel a week for months, leaving them with little room for any other books. \n",
            " \n",
            " Staff who are struggling to sell copies of the book have put a note up in the store saying they would rather donors hand in their vinyl instead.\n",
            "\n",
            "Generated Summary:\n",
            " – The Da Vinci Code is the most donated author to Oxfam's 700 high street shops, according to the New York Times. Dan Brown, who has sold more than 80 million copies of the book, has been named the most likely to be ditched in a charity shop since May, reports the publisher Knopf Doubleday, a division of Random House Inc. It's a boost to publishers and booksellers, which have endured sliding sales in the midst of the recession. \"We are seeing historic, record-breaking sales across all types of our accounts in North America, Canada and the United Kingdom, and it's also heartening to know that\n"
          ]
        }
      ]
    },
    {
      "cell_type": "markdown",
      "source": [
        "Comparing the results with previous (first, unmodified) model **my_multi_news_model**"
      ],
      "metadata": {
        "id": "8-XtSI3XkXOT"
      }
    },
    {
      "cell_type": "code",
      "source": [
        "# Check the current working directory\n",
        "print(\"Current Directory:\", os.getcwd())\n",
        "\n",
        "# Files in the model directory - to find out the most recent checkpoint:\n",
        "model_dir = \"./my_multi_news_model\"\n",
        "print(\"Files in model directory:\", os.listdir(model_dir))"
      ],
      "metadata": {
        "id": "cJ8Hdf41kWsp",
        "colab": {
          "base_uri": "https://localhost:8080/"
        },
        "outputId": "ea8fd77a-f54b-4e7e-ddcb-17bd06f1370c"
      },
      "execution_count": null,
      "outputs": [
        {
          "output_type": "stream",
          "name": "stdout",
          "text": [
            "Current Directory: /content\n",
            "Files in model directory: ['runs', 'checkpoint-500', 'checkpoint-1000']\n"
          ]
        }
      ]
    },
    {
      "cell_type": "code",
      "source": [
        "model_dir = \"./my_multi_news_model/checkpoint-1000\"\n",
        "print(\"Files in model directory:\", os.listdir(model_dir))"
      ],
      "metadata": {
        "id": "UxL5cs5QkWqI",
        "colab": {
          "base_uri": "https://localhost:8080/"
        },
        "outputId": "a07e1c56-750f-4c57-d8c6-f33827d974f4"
      },
      "execution_count": null,
      "outputs": [
        {
          "output_type": "stream",
          "name": "stdout",
          "text": [
            "Files in model directory: ['model.safetensors', 'config.json', 'tokenizer_config.json', 'rng_state.pth', 'tokenizer.json', 'spiece.model', 'trainer_state.json', 'training_args.bin', 'scheduler.pt', 'special_tokens_map.json', 'generation_config.json', 'optimizer.pt']\n"
          ]
        }
      ]
    },
    {
      "cell_type": "code",
      "source": [
        "model_path = \"./my_multi_news_model/checkpoint-1000\"\n",
        "\n",
        "model = AutoModelForSeq2SeqLM.from_pretrained(model_path)\n",
        "tokenizer = AutoTokenizer.from_pretrained(model_path)\n",
        "\n",
        "# Initialize the pipeline with your trained model and tokenizer\n",
        "summarizer = pipeline(\"summarization\", model=model, tokenizer=tokenizer)\n",
        "\n",
        "sample_text = dataset['validation'][0]['document']\n",
        "\n",
        "summary = summarizer(sample_text, max_length=150, min_length=40, length_penalty=2.0, num_beams=4, early_stopping=True)\n",
        "\n",
        "# Print the original text and summary\n",
        "print(\"Original Text:\\n\", sample_text)\n",
        "print(\"\\nGenerated Summary:\\n\", summary[0]['summary_text'])"
      ],
      "metadata": {
        "id": "sd4Teql2kWlk",
        "colab": {
          "base_uri": "https://localhost:8080/"
        },
        "outputId": "7ff6186a-a5d6-4ad9-d5d2-f8f08e0fc377"
      },
      "execution_count": null,
      "outputs": [
        {
          "output_type": "stream",
          "name": "stderr",
          "text": [
            "Token indices sequence length is longer than the specified maximum sequence length for this model (2327 > 512). Running this sequence through the model will result in indexing errors\n"
          ]
        },
        {
          "output_type": "stream",
          "name": "stdout",
          "text": [
            "Original Text:\n",
            " Whether a sign of a good read; or a comment on the 'pulp' nature of some genres of fiction, the Oxfam second-hand book charts have remained in The Da Vinci Code author's favour for the past four years. \n",
            " \n",
            " Dan Brown has topped Oxfam's 'most donated' list again, his fourth consecutive year. Having sold more than 80 million copies of The Da Vinci Code and had all four of his novels on the New York Times bestseller list in the same week, it's hardly surprising that Brown's hefty tomes are being donated to charity by readers keen to make some room on their shelves. \n",
            " \n",
            " Another cult crime writer responsible to heavy-weight hardbacks, Stieg Larsson, is Oxfam's 'most sold' author for the second time in a row. Both the 'most donated' and 'most sold' lists are dominated by crime fiction, trilogies and fantasy, with JK Rowling the only female author listed in either of the Top Fives. \n",
            " \n",
            " Click here or on \"View Gallery\" to see both charts in pictures ||||| A woman reads a copy of the newly released book ''The Lost Symbol'' by Dan Brown, at a speed reading book launch event in Sydney, September 15, 2009. REUTERS/Tim Wimborne \n",
            " \n",
            " SAN FRANCISCO The latest novel from \"Da Vinci Code\" author Dan Brown, \"The Lost Symbol,\" broke one-day sales records, its publisher and booksellers said. \n",
            " \n",
            " Readers snapped up over one million hardcover copies across the United States, Canada and the United Kingdom after it was released on Tuesday, said publisher Knopf Doubleday, a division of Random House Inc. \n",
            " \n",
            " \"We are seeing historic, record-breaking sales across all types of our accounts in North America for 'The Lost Symbol,\" said Sonny Mehta, editor in chief of Knopf Doubleday Publishing Group. Knopf Doubleday is a division of Random House Inc. \n",
            " \n",
            " Amazon.com Inc, the world's largest online retailer, called the book its bestselling first-day adult fiction title ever, including pre-orders. \n",
            " \n",
            " Barnes & Noble Inc said \"The Lost Symbol\" broke its previous one-day sales record for adult fiction. \n",
            " \n",
            " The success of the Dan Brown's latest is a boost to publisher Knopf Doubleday and booksellers, which have endured sliding sales in the midst of the recession. \n",
            " \n",
            " Booksellers have anxiously awaited a popular title that will resonate with readers and fuel the same sort of frenzy seen earlier this decade with the \"Harry Potter\" series, from author J.K. Rowling. \n",
            " \n",
            " But the $25 billion domestic book market has wallowed in a slump in recent years as more readers make their purchases online, or forego books altogether for online games and other forms of media and entertainment. \n",
            " \n",
            " Now, digital books and electronic reading devices such as Amazon's Kindle or Sony Corp's Reader are seen as both avenues of growth and sources of competition for traditional media, and publishers and booksellers are scrambling to respond. \n",
            " \n",
            " The highly anticipated book from Brown comes six years after the release of the American novelist's last book \"The Da Vinci Code\". It follows the adventures of Harvard professor Robert Langdon and is set in the secret world of Freemasons in Washington D.C. \n",
            " \n",
            " \"The Da Vinci Code\" sold 80 million copies worldwide. It was made into a film starring Tom Hanks that grossed more than $758 million, according to tracking firm Box Office Mojo. \n",
            " \n",
            " Shares of Amazon closed up $7.15 to $90.70 on the Nasdaq. Amazon was upgraded to a \"Buy\" rating by Bank of America Merrill Lynch, which cited a resurgence in e-commerce that would benefit the Seattle-based company. \n",
            " \n",
            " Barnes & Noble closed up 14 cents to $22.04 and book retailer Borders Group Inc closed up 2 cents to $3.29, on the New York Stock Exchange. \n",
            " \n",
            " (Reporting by Alexandria Sage; editing by Carol Bishopric) ||||| Bestselling author is also the most frequently given away to charity shops \n",
            " \n",
            " Dan Brown might be one of the world's bestselling authors but it turns out that readers aren't too keen on keeping his special blend of religious conspiracy and scholarly derring-do on their shelves once they've bought it. \n",
            " \n",
            " Brown, who has sold more than 81m copies of The Da Vinci Code worldwide, has been revealed as the most donated author to Oxfam's 700 high street shops. With just four books to his name – although his long-awaited fifth The Lost Symbol is published next month – Brown did well to see off competition from John Grisham, author of more than 20 and the second-most likely writer to be ditched in a charity shop by readers. \n",
            " \n",
            " But as secondhand bookshop shelves flood with battered editions of Angels and Demons and Digital Fortress, Brown can comfort himself with the fact that he's also Oxfam's second most bought author: there are, apparently, still readers out there who have yet to follow the adventures of the dapper symbologist Robert Langdon. There's no such consolation for Grisham, whose legal thrillers fail to make Oxfam's bestseller charts at all. \n",
            " \n",
            " \"There's no question that when you go into the back room of Oxfam shops there are many Dan Brown books,\" said Oxfam's director of trading David McCullough. \"But he's also very high on the bestseller list so there is a useful recycling exercise going on – it's not just people saying 'I've read The Da Vinci Code and now I must get rid of it'.\" \n",
            " \n",
            " Ian Rankin, whose dour, boozy detective John Rebus is no Robert Langdon, tops Oxfam's bestseller list, which the charity says is the first ever high-street secondhand bestseller chart. \"It's always good for an author to know that their books are popular,\" said the Scottish author, who will unveil a new policeman hero, the teetotal Malcolm Fox, next month. \"With Oxfam, it's also heartening to realise that each book donated and bought is helping such a worthwhile organisation.\" \n",
            " \n",
            " Stephenie Meyer, author of the Twilight series and instigator of myriad teenage crushes courtesy of her sparkly vampire hero Edward Cullen, is also sitting high in Oxfam's charts, nestling between Bernard Cornwell and Terry Pratchett. \n",
            " \n",
            " Margaret Atwood, meanwhile, winner of the Booker prize and author of a host of critically acclaimed works of fiction, scrapes into the list in eighth place, keeping unlikely company with thriller powerhouse James Patterson – currently producing at least eight books a year thanks to a horde of co-writers – and Jodi Picoult, never afraid to jerk a tear or pile on the plot twists. \n",
            " \n",
            " \"We just need to dispel the idea that we are sitting there in Oxfam with only first editions of literary gems – actually we've got shelves of really good fiction,\" said McCullough. \"Waterstone's might be more upset than secondhand booksellers,\" he added, referring to the recent slew of complaints from secondhand booksellers that the charity is stealing their business. \n",
            " \n",
            " Oxfam, Europe's biggest high-street retailer of secondhand books and the third-biggest bookseller in the UK, launched a drive for book donations in May ahead of its first national book festival, Bookfest, in July. Authors including Joanna Trollope, Philip Pullman and Jonathan Coe all lent a hand in shops across the country as part of the festival, and the drive saw book donations rise 40%, with sales up by more than 10%. \n",
            " \n",
            " Rare books and first editions have also been pouring into shops since May. Ten of the most sought-after editions have raised more than £4,500 for the charity between them. A first edition of Lord of the Rings sold for £800, a first edition of Watership Down brought in £500, Sylvia Plath's Ariel sold for £350, Ian Fleming's From Russia With Love for £300 and a second printing of Martin Chuzzlewit for £200. \n",
            " \n",
            " Oxfam, which has more than 130 specialist bookshops and stocks books in almost all of its 700 stores, sells £1.6m-worth of books a month – equivalent, it says, to 50,000 emergency shelters, 64,000 goats or safe water for 2.1 million people. \n",
            " \n",
            " The most donated authors to Oxfam shops so far this year: \n",
            " \n",
            " 1. Dan Brown \n",
            " \n",
            " 2. John Grisham \n",
            " \n",
            " 3. Ian Rankin \n",
            " \n",
            " 4. Danielle Steel \n",
            " \n",
            " 5. Helen Fielding \n",
            " \n",
            " 6. Stephen King \n",
            " \n",
            " 7. JK Rowling \n",
            " \n",
            " 8. Catherine Cookson \n",
            " \n",
            " 9. Patricia Cornwell \n",
            " \n",
            " 10. Mills & Boon \n",
            " \n",
            " The Oxfam shop bestseller list: \n",
            " \n",
            " 1. Ian Rankin \n",
            " \n",
            " 2. Dan Brown \n",
            " \n",
            " 3. Bernard Cornwell \n",
            " \n",
            " 4. Stephanie Meyer \n",
            " \n",
            " 5. Terry Pratchett \n",
            " \n",
            " 6. Khaled Hosseini \n",
            " \n",
            " 7. Helen Fielding \n",
            " \n",
            " 8. Margaret Atwood \n",
            " \n",
            " 9. James Patterson \n",
            " \n",
            " 10. Jodi Picoult \n",
            " \n",
            " The top 10 most valuable donated books since May: \n",
            " \n",
            " 1. JRR Tolkien, Lord of the Rings – first edition, sold for £800 \n",
            " \n",
            " 2. Don Giovanni sheet music – first edition, sold for £750 \n",
            " \n",
            " 3. Sowerby's Catalogue of Shells – sold for £600 \n",
            " \n",
            " 4. Richard Adams, Watership Down – first edition, sold for £500 \n",
            " \n",
            " 5. Handbook of Indian Dances - first edition with hand-blocked prints, sold for £500 \n",
            " \n",
            " 6. Richmal Crompton, Just William - first edition, sold for £440 \n",
            " \n",
            " 7. Sylvia Plath, Ariel – first edition, sold for £350 \n",
            " \n",
            " 8. Ian Fleming, From Russia With Love – first edition, sold for £300 \n",
            " \n",
            " 9. Charles Dickens, Martin Chuzzlewit – second print, sold for £200 \n",
            " \n",
            " 10. WE Johns, Biggles in Australia – first edition, sold for £150 ||||| A charity shop is urging people to stop donating The Da Vinci Code after becoming overwhelmed with copies. \n",
            " \n",
            " The Oxfam shop in Swansea has been receiving an average of one copy of the Dan Brown novel a week for months, leaving them with little room for any other books. \n",
            " \n",
            " Staff who are struggling to sell copies of the book have put a note up in the store saying they would rather donors hand in their vinyl instead.\n",
            "\n",
            "Generated Summary:\n",
            " – Dan Brown has topped Oxfam's 'most donated' list again, his fourth consecutive year. The latest novel from \"Da Vinci Code\" author Dan Brown, \"The Lost Symbol,\" broke its previous one-day sales record for adult fiction, its publisher and booksellers said. It follows the adventures of Harvard professor Robert Langdon and is set in the secret world of Freemasons in Washington D.C. It was made into a film starring Tom Hanks that grossed more than $758 million, a second-most sold'\n"
          ]
        }
      ]
    },
    {
      "cell_type": "markdown",
      "source": [
        "**Step 7:** Visualization???"
      ],
      "metadata": {
        "id": "2gh-FImYHhjc"
      }
    },
    {
      "cell_type": "code",
      "source": [
        "sample_text_1 = dataset['validation'][1]['document']\n",
        "sample_text_2 = dataset['validation'][2]['document']"
      ],
      "metadata": {
        "id": "Z0emin-ZWecs"
      },
      "execution_count": null,
      "outputs": []
    },
    {
      "cell_type": "code",
      "source": [
        "from transformers import T5Tokenizer, T5Model, T5ForConditionalGeneration\n",
        "import torch\n",
        "\n",
        "tokenizer = T5Tokenizer.from_pretrained(\"./my_multi_news_model_2/checkpoint-1200\")\n",
        "model = T5ForConditionalGeneration.from_pretrained(\"./my_multi_news_model_2/checkpoint-1200\")\n",
        "\n",
        "texts = [sample_text_1, sample_text_2]  # Replace with your actual texts\n",
        "inputs = tokenizer(texts, return_tensors=\"pt\", padding=True, truncation=True).to(model.device)\n",
        "\n",
        "# Forward pass, get hidden states\n",
        "with torch.no_grad():\n",
        "    outputs = model(input_ids=inputs.input_ids, attention_mask=inputs.attention_mask, decoder_input_ids=inputs.input_ids)\n",
        "\n",
        "# Extract the last layer's hidden states\n",
        "hidden_states = outputs.encoder_last_hidden_state\n",
        "\n",
        "# Process the hidden states to get embeddings, here we take the mean of the last layer's hidden states\n",
        "embeddings = hidden_states.mean(dim=1)"
      ],
      "metadata": {
        "colab": {
          "base_uri": "https://localhost:8080/"
        },
        "id": "1-u41fDHZNtd",
        "outputId": "ddee2b5b-6a90-45b8-a090-6f0c8f9480e6"
      },
      "execution_count": null,
      "outputs": [
        {
          "output_type": "stream",
          "name": "stderr",
          "text": [
            "Special tokens have been added in the vocabulary, make sure the associated word embeddings are fine-tuned or trained.\n"
          ]
        }
      ]
    },
    {
      "cell_type": "code",
      "source": [
        "# Save embeddings to .tsv file\n",
        "with open(\"embeddings.tsv\", \"w\") as f:\n",
        "    for vec in embeddings:\n",
        "        line = \"\\t\".join([str(v) for v in vec.tolist()])\n",
        "        f.write(line + \"\\n\")\n",
        "\n",
        "# Assuming you want to use the texts as metadata\n",
        "metadata = texts\n",
        "\n",
        "# Save metadata to .tsv file\n",
        "with open(\"metadata.tsv\", \"w\", encoding=\"utf-8\") as f:\n",
        "    for text in metadata:\n",
        "        f.write(text + \"\\n\")"
      ],
      "metadata": {
        "id": "L3LIhZrOGzCf"
      },
      "execution_count": null,
      "outputs": []
    },
    {
      "cell_type": "code",
      "source": [
        "from google.colab import files\n",
        "files.download('embeddings.tsv')\n",
        "files.download('metadata.tsv')"
      ],
      "metadata": {
        "id": "h1f_ZfjkkWfj",
        "colab": {
          "base_uri": "https://localhost:8080/",
          "height": 17
        },
        "outputId": "5cc42ca2-7112-40e7-dcb2-2a74df628b5c"
      },
      "execution_count": null,
      "outputs": [
        {
          "output_type": "display_data",
          "data": {
            "text/plain": [
              "<IPython.core.display.Javascript object>"
            ],
            "application/javascript": [
              "\n",
              "    async function download(id, filename, size) {\n",
              "      if (!google.colab.kernel.accessAllowed) {\n",
              "        return;\n",
              "      }\n",
              "      const div = document.createElement('div');\n",
              "      const label = document.createElement('label');\n",
              "      label.textContent = `Downloading \"${filename}\": `;\n",
              "      div.appendChild(label);\n",
              "      const progress = document.createElement('progress');\n",
              "      progress.max = size;\n",
              "      div.appendChild(progress);\n",
              "      document.body.appendChild(div);\n",
              "\n",
              "      const buffers = [];\n",
              "      let downloaded = 0;\n",
              "\n",
              "      const channel = await google.colab.kernel.comms.open(id);\n",
              "      // Send a message to notify the kernel that we're ready.\n",
              "      channel.send({})\n",
              "\n",
              "      for await (const message of channel.messages) {\n",
              "        // Send a message to notify the kernel that we're ready.\n",
              "        channel.send({})\n",
              "        if (message.buffers) {\n",
              "          for (const buffer of message.buffers) {\n",
              "            buffers.push(buffer);\n",
              "            downloaded += buffer.byteLength;\n",
              "            progress.value = downloaded;\n",
              "          }\n",
              "        }\n",
              "      }\n",
              "      const blob = new Blob(buffers, {type: 'application/binary'});\n",
              "      const a = document.createElement('a');\n",
              "      a.href = window.URL.createObjectURL(blob);\n",
              "      a.download = filename;\n",
              "      div.appendChild(a);\n",
              "      a.click();\n",
              "      div.remove();\n",
              "    }\n",
              "  "
            ]
          },
          "metadata": {}
        },
        {
          "output_type": "display_data",
          "data": {
            "text/plain": [
              "<IPython.core.display.Javascript object>"
            ],
            "application/javascript": [
              "download(\"download_f541f03b-bca6-44ea-a4de-be46017ee4a3\", \"embeddings.tsv\", 21542)"
            ]
          },
          "metadata": {}
        },
        {
          "output_type": "display_data",
          "data": {
            "text/plain": [
              "<IPython.core.display.Javascript object>"
            ],
            "application/javascript": [
              "\n",
              "    async function download(id, filename, size) {\n",
              "      if (!google.colab.kernel.accessAllowed) {\n",
              "        return;\n",
              "      }\n",
              "      const div = document.createElement('div');\n",
              "      const label = document.createElement('label');\n",
              "      label.textContent = `Downloading \"${filename}\": `;\n",
              "      div.appendChild(label);\n",
              "      const progress = document.createElement('progress');\n",
              "      progress.max = size;\n",
              "      div.appendChild(progress);\n",
              "      document.body.appendChild(div);\n",
              "\n",
              "      const buffers = [];\n",
              "      let downloaded = 0;\n",
              "\n",
              "      const channel = await google.colab.kernel.comms.open(id);\n",
              "      // Send a message to notify the kernel that we're ready.\n",
              "      channel.send({})\n",
              "\n",
              "      for await (const message of channel.messages) {\n",
              "        // Send a message to notify the kernel that we're ready.\n",
              "        channel.send({})\n",
              "        if (message.buffers) {\n",
              "          for (const buffer of message.buffers) {\n",
              "            buffers.push(buffer);\n",
              "            downloaded += buffer.byteLength;\n",
              "            progress.value = downloaded;\n",
              "          }\n",
              "        }\n",
              "      }\n",
              "      const blob = new Blob(buffers, {type: 'application/binary'});\n",
              "      const a = document.createElement('a');\n",
              "      a.href = window.URL.createObjectURL(blob);\n",
              "      a.download = filename;\n",
              "      div.appendChild(a);\n",
              "      a.click();\n",
              "      div.remove();\n",
              "    }\n",
              "  "
            ]
          },
          "metadata": {}
        },
        {
          "output_type": "display_data",
          "data": {
            "text/plain": [
              "<IPython.core.display.Javascript object>"
            ],
            "application/javascript": [
              "download(\"download_0c340d12-7e61-4e46-ac2a-fd7777077b92\", \"metadata.tsv\", 47762)"
            ]
          },
          "metadata": {}
        }
      ]
    },
    {
      "cell_type": "markdown",
      "source": [
        "### **Now we will switch to BART-base model and start again, completing the preprocessing and further steps:**"
      ],
      "metadata": {
        "id": "3In7AZ5fFXN3"
      }
    },
    {
      "cell_type": "code",
      "source": [
        "from datasets import load_dataset\n",
        "\n",
        "# Load the dataset\n",
        "dataset = load_dataset(\"multi_news\")\n",
        "\n",
        "# Define sample size\n",
        "sample_size = 3000  # Adjust this as necessary to fit within your RAM limits\n",
        "\n",
        "# Take a random sample of the dataset\n",
        "dataset_sampled = dataset[\"train\"].shuffle(seed=42).select(range(sample_size))\n",
        "\n",
        "# Split the sampled dataset into training and testing sets\n",
        "train_test_split = dataset_sampled.train_test_split(test_size=0.1)\n",
        "train_dataset = train_test_split['train']\n",
        "test_dataset = train_test_split['test']"
      ],
      "metadata": {
        "id": "nm_j8M3gklgO"
      },
      "execution_count": null,
      "outputs": []
    },
    {
      "cell_type": "markdown",
      "source": [
        "Preprocessing:"
      ],
      "metadata": {
        "id": "dmFR_41rFw_b"
      }
    },
    {
      "cell_type": "code",
      "source": [
        "from transformers import BartTokenizer\n",
        "\n",
        "tokenizer = BartTokenizer.from_pretrained('facebook/bart-base')\n",
        "\n",
        "def preprocess_function(examples):\n",
        "    inputs = [\"summarize: \" + (doc if doc is not None else \"\") for doc in examples[\"document\"]]\n",
        "    model_inputs = tokenizer(inputs, max_length=1024, truncation=True, padding=\"max_length\")\n",
        "\n",
        "    # Tokenize the summaries\n",
        "    with tokenizer.as_target_tokenizer():\n",
        "        labels = tokenizer(examples[\"summary\"], max_length=128, truncation=True, padding=\"max_length\")\n",
        "\n",
        "    # Ensure no `None` values are present\n",
        "    model_inputs[\"labels\"] = [label if label is not None else tokenizer.pad_token_id for label in labels[\"input_ids\"]]\n",
        "    return model_inputs\n",
        "\n",
        "# Re-process the datasets to ensure proper tokenization and no None values\n",
        "train_dataset = train_dataset.map(preprocess_function, batched=True, remove_columns=['document', 'summary'])\n",
        "test_dataset = test_dataset.map(preprocess_function, batched=True, remove_columns=['document', 'summary'])"
      ],
      "metadata": {
        "id": "lKmusrZm7PZK"
      },
      "execution_count": null,
      "outputs": []
    },
    {
      "cell_type": "markdown",
      "source": [
        "Initializing the Data Collator and the BART Model"
      ],
      "metadata": {
        "id": "m-SxDFXMGQE3"
      }
    },
    {
      "cell_type": "code",
      "source": [
        "from transformers import BartForConditionalGeneration, DataCollatorForSeq2Seq\n",
        "\n",
        "# Initialize the BART model\n",
        "model = BartForConditionalGeneration.from_pretrained('facebook/bart-base')\n",
        "\n",
        "# Initialize the data collator\n",
        "data_collator = DataCollatorForSeq2Seq(tokenizer=tokenizer, model=model)"
      ],
      "metadata": {
        "id": "64JeHSppej3s"
      },
      "execution_count": null,
      "outputs": []
    },
    {
      "cell_type": "markdown",
      "source": [
        "Defining the training args"
      ],
      "metadata": {
        "id": "Swly1SLz8Foe"
      }
    },
    {
      "cell_type": "code",
      "source": [
        "training_args = Seq2SeqTrainingArguments(\n",
        "    output_dir=\"./bart_model\",\n",
        "    evaluation_strategy=\"epoch\",\n",
        "    learning_rate=2e-5,\n",
        "    per_device_train_batch_size=4,\n",
        "    per_device_eval_batch_size=4,\n",
        "    weight_decay=0.01,\n",
        "    save_total_limit=3,\n",
        "    num_train_epochs=3,\n",
        "    predict_with_generate=True,\n",
        "    fp16=True,\n",
        ")"
      ],
      "metadata": {
        "id": "YlNjzWd27yZC"
      },
      "execution_count": null,
      "outputs": []
    },
    {
      "cell_type": "markdown",
      "source": [
        "Evaluation:"
      ],
      "metadata": {
        "id": "_KCGSyhsIwZa"
      }
    },
    {
      "cell_type": "code",
      "source": [
        "from datasets import load_metric\n",
        "import numpy as np\n",
        "\n",
        "rouge = load_metric(\"rouge\")\n",
        "\n",
        "def compute_metrics(eval_pred):\n",
        "    predictions, labels = eval_pred\n",
        "    decoded_preds = tokenizer.batch_decode(predictions, skip_special_tokens=True)\n",
        "    decoded_labels = tokenizer.batch_decode(labels, skip_special_tokens=True)\n",
        "\n",
        "    result = rouge.compute(predictions=decoded_preds, references=decoded_labels)\n",
        "    result = {key: value.mid.fmeasure for key, value in result.items()}\n",
        "\n",
        "    prediction_lens = [np.count_nonzero(pred != tokenizer.pad_token_id) for pred in predictions]\n",
        "    result[\"gen_len\"] = np.mean(prediction_lens)\n",
        "\n",
        "    return result"
      ],
      "metadata": {
        "colab": {
          "base_uri": "https://localhost:8080/"
        },
        "id": "DQGl_OMdeUed",
        "outputId": "e9a4aa43-eafc-4582-855e-012a73c511b7"
      },
      "execution_count": null,
      "outputs": [
        {
          "output_type": "stream",
          "name": "stderr",
          "text": [
            "<ipython-input-32-5ce1539ce406>:4: FutureWarning: load_metric is deprecated and will be removed in the next major version of datasets. Use 'evaluate.load' instead, from the new library 🤗 Evaluate: https://huggingface.co/docs/evaluate\n",
            "  rouge = load_metric(\"rouge\")\n",
            "/usr/local/lib/python3.10/dist-packages/datasets/load.py:752: FutureWarning: The repository for rouge contains custom code which must be executed to correctly load the metric. You can inspect the repository content at https://raw.githubusercontent.com/huggingface/datasets/2.16.1/metrics/rouge/rouge.py\n",
            "You can avoid this message in future by passing the argument `trust_remote_code=True`.\n",
            "Passing `trust_remote_code=True` will be mandatory to load this metric from the next major release of `datasets`.\n",
            "  warnings.warn(\n"
          ]
        }
      ]
    },
    {
      "cell_type": "markdown",
      "source": [
        "Training"
      ],
      "metadata": {
        "id": "1g76ikH9Ga7N"
      }
    },
    {
      "cell_type": "code",
      "source": [
        "from transformers import Seq2SeqTrainer\n",
        "\n",
        "trainer = Seq2SeqTrainer(\n",
        "    model=model,\n",
        "    args=training_args,\n",
        "    train_dataset=train_dataset,\n",
        "    eval_dataset=test_dataset,\n",
        "    tokenizer=tokenizer,\n",
        "    data_collator=data_collator,\n",
        "    compute_metrics=compute_metrics,\n",
        ")\n",
        "\n",
        "trainer.train()"
      ],
      "metadata": {
        "colab": {
          "base_uri": "https://localhost:8080/",
          "height": 291
        },
        "id": "XoFXlwCXfxFH",
        "outputId": "5132ede3-5df2-466d-95eb-6841b1bde21f"
      },
      "execution_count": null,
      "outputs": [
        {
          "output_type": "display_data",
          "data": {
            "text/plain": [
              "<IPython.core.display.HTML object>"
            ],
            "text/html": [
              "\n",
              "    <div>\n",
              "      \n",
              "      <progress value='2025' max='2025' style='width:300px; height:20px; vertical-align: middle;'></progress>\n",
              "      [2025/2025 14:41, Epoch 3/3]\n",
              "    </div>\n",
              "    <table border=\"1\" class=\"dataframe\">\n",
              "  <thead>\n",
              " <tr style=\"text-align: left;\">\n",
              "      <th>Epoch</th>\n",
              "      <th>Training Loss</th>\n",
              "      <th>Validation Loss</th>\n",
              "      <th>Rouge1</th>\n",
              "      <th>Rouge2</th>\n",
              "      <th>Rougel</th>\n",
              "      <th>Rougelsum</th>\n",
              "      <th>Gen Len</th>\n",
              "    </tr>\n",
              "  </thead>\n",
              "  <tbody>\n",
              "    <tr>\n",
              "      <td>1</td>\n",
              "      <td>2.969100</td>\n",
              "      <td>2.497054</td>\n",
              "      <td>0.144430</td>\n",
              "      <td>0.048225</td>\n",
              "      <td>0.109564</td>\n",
              "      <td>0.109582</td>\n",
              "      <td>20.000000</td>\n",
              "    </tr>\n",
              "    <tr>\n",
              "      <td>2</td>\n",
              "      <td>2.737600</td>\n",
              "      <td>2.464984</td>\n",
              "      <td>0.144507</td>\n",
              "      <td>0.049574</td>\n",
              "      <td>0.109934</td>\n",
              "      <td>0.110050</td>\n",
              "      <td>20.000000</td>\n",
              "    </tr>\n",
              "    <tr>\n",
              "      <td>3</td>\n",
              "      <td>2.535100</td>\n",
              "      <td>2.448270</td>\n",
              "      <td>0.143483</td>\n",
              "      <td>0.047600</td>\n",
              "      <td>0.109824</td>\n",
              "      <td>0.109827</td>\n",
              "      <td>20.000000</td>\n",
              "    </tr>\n",
              "  </tbody>\n",
              "</table><p>"
            ]
          },
          "metadata": {}
        },
        {
          "output_type": "stream",
          "name": "stderr",
          "text": [
            "/usr/local/lib/python3.10/dist-packages/transformers/generation/utils.py:1273: UserWarning: Using the model-agnostic default `max_length` (=20) to control the generation length. We recommend setting `max_new_tokens` to control the maximum length of the generation.\n",
            "  warnings.warn(\n",
            "/usr/local/lib/python3.10/dist-packages/transformers/generation/utils.py:1273: UserWarning: Using the model-agnostic default `max_length` (=20) to control the generation length. We recommend setting `max_new_tokens` to control the maximum length of the generation.\n",
            "  warnings.warn(\n",
            "/usr/local/lib/python3.10/dist-packages/transformers/generation/utils.py:1273: UserWarning: Using the model-agnostic default `max_length` (=20) to control the generation length. We recommend setting `max_new_tokens` to control the maximum length of the generation.\n",
            "  warnings.warn(\n"
          ]
        },
        {
          "output_type": "execute_result",
          "data": {
            "text/plain": [
              "TrainOutput(global_step=2025, training_loss=2.7122952289345825, metrics={'train_runtime': 881.6002, 'train_samples_per_second': 9.188, 'train_steps_per_second': 2.297, 'total_flos': 4938865311744000.0, 'train_loss': 2.7122952289345825, 'epoch': 3.0})"
            ]
          },
          "metadata": {},
          "execution_count": 33
        }
      ]
    },
    {
      "cell_type": "markdown",
      "source": [
        "Some statistics:"
      ],
      "metadata": {
        "id": "78oRbZ1LJOth"
      }
    },
    {
      "cell_type": "code",
      "source": [
        "import matplotlib.pyplot as plt\n",
        "\n",
        "# Extracting the training and validation loss\n",
        "train_losses = [log['loss'] for log in trainer.state.log_history if 'loss' in log and 'runtime' not in log]\n",
        "validation_losses = [log['eval_loss'] for log in trainer.state.log_history if 'eval_loss' in log]\n",
        "\n",
        "# Plotting the losses\n",
        "plt.figure(figsize=(12, 8))\n",
        "\n",
        "# Plot training loss\n",
        "plt.plot(train_losses, label='Training Loss')\n",
        "\n",
        "# Since validation loss is calculated at the end of each epoch,\n",
        "# we'll plot it against the corresponding epochs.\n",
        "epochs = range(1, len(validation_losses) + 1)\n",
        "plt.plot(epochs, validation_losses, label='Validation Loss', marker='o')\n",
        "\n",
        "plt.title('Training and Validation Loss')\n",
        "plt.xlabel('Training Steps' if len(train_losses) > len(epochs) else 'Epochs')\n",
        "plt.ylabel('Loss')\n",
        "plt.legend()\n",
        "plt.grid(True)\n",
        "plt.show()"
      ],
      "metadata": {
        "colab": {
          "base_uri": "https://localhost:8080/",
          "height": 718
        },
        "id": "-11X43UfJNUY",
        "outputId": "6e4248ce-873d-4987-c77f-aeb22ccbf474"
      },
      "execution_count": null,
      "outputs": [
        {
          "output_type": "display_data",
          "data": {
            "text/plain": [
              "<Figure size 1200x800 with 1 Axes>"
            ],
            "image/png": "[encoded data removed]"
          },
          "metadata": {}
        }
      ]
    },
    {
      "cell_type": "markdown",
      "source": [
        "Modifying the parameters..."
      ],
      "metadata": {
        "id": "G9aHj___94ce"
      }
    },
    {
      "cell_type": "code",
      "source": [
        "training_args = Seq2SeqTrainingArguments(\n",
        "    output_dir=\"./bart_model_2\",\n",
        "    evaluation_strategy=\"epoch\",\n",
        "    learning_rate=3e-5,\n",
        "    per_device_train_batch_size=8,\n",
        "    per_device_eval_batch_size=8,\n",
        "    weight_decay=0.01,\n",
        "    save_total_limit=3,\n",
        "    num_train_epochs=4,\n",
        "    predict_with_generate=True,\n",
        "    fp16=True,\n",
        ")\n",
        "\n",
        "trainer = Seq2SeqTrainer(\n",
        "    model=model,\n",
        "    args=training_args,\n",
        "    train_dataset=train_dataset,\n",
        "    eval_dataset=test_dataset,\n",
        "    tokenizer=tokenizer,\n",
        "    data_collator=data_collator,\n",
        "    compute_metrics=compute_metrics,\n",
        ")\n",
        "\n",
        "trainer.train()"
      ],
      "metadata": {
        "colab": {
          "base_uri": "https://localhost:8080/",
          "height": 288
        },
        "id": "FdC9RCGV97Ev",
        "outputId": "921236fe-db45-45ed-b059-c177765dabbd"
      },
      "execution_count": null,
      "outputs": [
        {
          "output_type": "display_data",
          "data": {
            "text/plain": [
              "<IPython.core.display.HTML object>"
            ],
            "text/html": [
              "\n",
              "    <div>\n",
              "      \n",
              "      <progress value='1352' max='1352' style='width:300px; height:20px; vertical-align: middle;'></progress>\n",
              "      [1352/1352 16:36, Epoch 4/4]\n",
              "    </div>\n",
              "    <table border=\"1\" class=\"dataframe\">\n",
              "  <thead>\n",
              " <tr style=\"text-align: left;\">\n",
              "      <th>Epoch</th>\n",
              "      <th>Training Loss</th>\n",
              "      <th>Validation Loss</th>\n",
              "      <th>Rouge1</th>\n",
              "      <th>Rouge2</th>\n",
              "      <th>Rougel</th>\n",
              "      <th>Rougelsum</th>\n",
              "      <th>Gen Len</th>\n",
              "    </tr>\n",
              "  </thead>\n",
              "  <tbody>\n",
              "    <tr>\n",
              "      <td>1</td>\n",
              "      <td>No log</td>\n",
              "      <td>2.436031</td>\n",
              "      <td>0.148630</td>\n",
              "      <td>0.053318</td>\n",
              "      <td>0.113512</td>\n",
              "      <td>0.113560</td>\n",
              "      <td>20.000000</td>\n",
              "    </tr>\n",
              "    <tr>\n",
              "      <td>2</td>\n",
              "      <td>2.463300</td>\n",
              "      <td>2.425817</td>\n",
              "      <td>0.147618</td>\n",
              "      <td>0.050840</td>\n",
              "      <td>0.111758</td>\n",
              "      <td>0.111662</td>\n",
              "      <td>20.000000</td>\n",
              "    </tr>\n",
              "    <tr>\n",
              "      <td>3</td>\n",
              "      <td>2.285700</td>\n",
              "      <td>2.434585</td>\n",
              "      <td>0.147924</td>\n",
              "      <td>0.051075</td>\n",
              "      <td>0.111449</td>\n",
              "      <td>0.111430</td>\n",
              "      <td>20.000000</td>\n",
              "    </tr>\n",
              "    <tr>\n",
              "      <td>4</td>\n",
              "      <td>2.285700</td>\n",
              "      <td>2.450239</td>\n",
              "      <td>0.145956</td>\n",
              "      <td>0.049317</td>\n",
              "      <td>0.110726</td>\n",
              "      <td>0.110559</td>\n",
              "      <td>20.000000</td>\n",
              "    </tr>\n",
              "  </tbody>\n",
              "</table><p>"
            ]
          },
          "metadata": {}
        },
        {
          "output_type": "stream",
          "name": "stderr",
          "text": [
            "/usr/local/lib/python3.10/dist-packages/transformers/generation/utils.py:1273: UserWarning: Using the model-agnostic default `max_length` (=20) to control the generation length. We recommend setting `max_new_tokens` to control the maximum length of the generation.\n",
            "  warnings.warn(\n",
            "/usr/local/lib/python3.10/dist-packages/transformers/generation/utils.py:1273: UserWarning: Using the model-agnostic default `max_length` (=20) to control the generation length. We recommend setting `max_new_tokens` to control the maximum length of the generation.\n",
            "  warnings.warn(\n"
          ]
        },
        {
          "output_type": "execute_result",
          "data": {
            "text/plain": [
              "TrainOutput(global_step=1352, training_loss=2.319727293838411, metrics={'train_runtime': 996.7917, 'train_samples_per_second': 10.835, 'train_steps_per_second': 1.356, 'total_flos': 6585153748992000.0, 'train_loss': 2.319727293838411, 'epoch': 4.0})"
            ]
          },
          "metadata": {},
          "execution_count": 35
        }
      ]
    },
    {
      "cell_type": "markdown",
      "source": [
        "Some statistics:"
      ],
      "metadata": {
        "id": "QdZqTw1iJSWq"
      }
    },
    {
      "cell_type": "code",
      "source": [
        "import matplotlib.pyplot as plt\n",
        "\n",
        "# Extracting the training and validation loss\n",
        "train_losses = [log['loss'] for log in trainer.state.log_history if 'loss' in log and 'runtime' not in log]\n",
        "validation_losses = [log['eval_loss'] for log in trainer.state.log_history if 'eval_loss' in log]\n",
        "\n",
        "# Plotting the losses\n",
        "plt.figure(figsize=(12, 8))\n",
        "\n",
        "# Plot training loss\n",
        "plt.plot(train_losses, label='Training Loss')\n",
        "\n",
        "# Since validation loss is calculated at the end of each epoch,\n",
        "# we'll plot it against the corresponding epochs.\n",
        "epochs = range(1, len(validation_losses) + 1)\n",
        "plt.plot(epochs, validation_losses, label='Validation Loss', marker='o')\n",
        "\n",
        "plt.title('Training and Validation Loss')\n",
        "plt.xlabel('Training Steps' if len(train_losses) > len(epochs) else 'Epochs')\n",
        "plt.ylabel('Loss')\n",
        "plt.legend()\n",
        "plt.grid(True)\n",
        "plt.show()"
      ],
      "metadata": {
        "colab": {
          "base_uri": "https://localhost:8080/",
          "height": 718
        },
        "id": "vS2g8OZLJSJl",
        "outputId": "ab567aad-b927-423b-b406-34db6d0a95ab"
      },
      "execution_count": null,
      "outputs": [
        {
          "output_type": "display_data",
          "data": {
            "text/plain": [
              "<Figure size 1200x800 with 1 Axes>"
            ],
            "image/png": "[encoded data removed]"
          },
          "metadata": {}
        }
      ]
    },
    {
      "cell_type": "markdown",
      "source": [
        "Inference with the second (modified) model **bart_model_2**"
      ],
      "metadata": {
        "id": "QeHgfmQAHds2"
      }
    },
    {
      "cell_type": "code",
      "source": [
        "from transformers import pipeline\n",
        "import os"
      ],
      "metadata": {
        "id": "vjtiLO7o8UkJ"
      },
      "execution_count": null,
      "outputs": []
    },
    {
      "cell_type": "code",
      "source": [
        "# Check the current working directory\n",
        "print(\"Current Directory:\", os.getcwd())\n",
        "\n",
        "# Files in the model directory - to find out the most recent checkpoint:\n",
        "model_dir = \"./bart_model_2\"\n",
        "print(\"Files in model directory:\", os.listdir(model_dir))"
      ],
      "metadata": {
        "colab": {
          "base_uri": "https://localhost:8080/"
        },
        "id": "eYnvD2chApbH",
        "outputId": "1f8fcc4a-e563-4a03-b416-f2e3a1b1b0e7"
      },
      "execution_count": null,
      "outputs": [
        {
          "output_type": "stream",
          "name": "stdout",
          "text": [
            "Current Directory: /content\n",
            "Files in model directory: ['runs', 'checkpoint-500', 'checkpoint-1000']\n"
          ]
        }
      ]
    },
    {
      "cell_type": "code",
      "source": [
        "model_dir = \"./bart_model_2/checkpoint-1000\"\n",
        "print(\"Files in model directory:\", os.listdir(model_dir))"
      ],
      "metadata": {
        "colab": {
          "base_uri": "https://localhost:8080/"
        },
        "id": "LqKanbd1ApN0",
        "outputId": "6910fda2-7179-4087-b5e7-5ba2843d36c7"
      },
      "execution_count": null,
      "outputs": [
        {
          "output_type": "stream",
          "name": "stdout",
          "text": [
            "Files in model directory: ['model.safetensors', 'config.json', 'vocab.json', 'merges.txt', 'tokenizer_config.json', 'rng_state.pth', 'trainer_state.json', 'training_args.bin', 'scheduler.pt', 'special_tokens_map.json', 'generation_config.json', 'optimizer.pt']\n"
          ]
        }
      ]
    },
    {
      "cell_type": "code",
      "source": [
        "from transformers import BartTokenizer, BartForConditionalGeneration, pipeline\n",
        "\n",
        "# Make sure you're using the correct model checkpoint\n",
        "model_path = './bart_model_2/checkpoint-1000'\n",
        "\n",
        "# Load the tokenizer and model\n",
        "tokenizer = BartTokenizer.from_pretrained(model_path)\n",
        "model = BartForConditionalGeneration.from_pretrained(model_path)\n",
        "\n",
        "# Initialize the summarizer pipeline\n",
        "summarizer = pipeline(\"summarization\", model=model, tokenizer=tokenizer)\n",
        "\n",
        "# Get a sample document from your dataset\n",
        "sample_text = dataset['validation'][0]['document']\n",
        "\n",
        "# Tokenize the text and truncate it to the appropriate length\n",
        "inputs = tokenizer.encode(sample_text, return_tensors='pt', max_length=1024, truncation=True)\n",
        "\n",
        "# Generate summary tokens\n",
        "summary_ids = model.generate(inputs, max_length=150, min_length=40, length_penalty=2.0, num_beams=4, early_stopping=True)\n",
        "\n",
        "# Decode the generated summary tokens to text\n",
        "summary_text = tokenizer.decode(summary_ids[0], skip_special_tokens=True)\n",
        "\n",
        "print(f\"Original Text: {sample_text}\")\n",
        "print(f\"Generated Summary: {summary_text}\")"
      ],
      "metadata": {
        "colab": {
          "base_uri": "https://localhost:8080/"
        },
        "id": "FgLap3Q6ApB9",
        "outputId": "1a7ba503-a9c6-4650-e851-63562e2e67b3"
      },
      "execution_count": null,
      "outputs": [
        {
          "output_type": "stream",
          "name": "stdout",
          "text": [
            "Original Text: Whether a sign of a good read; or a comment on the 'pulp' nature of some genres of fiction, the Oxfam second-hand book charts have remained in The Da Vinci Code author's favour for the past four years. \n",
            " \n",
            " Dan Brown has topped Oxfam's 'most donated' list again, his fourth consecutive year. Having sold more than 80 million copies of The Da Vinci Code and had all four of his novels on the New York Times bestseller list in the same week, it's hardly surprising that Brown's hefty tomes are being donated to charity by readers keen to make some room on their shelves. \n",
            " \n",
            " Another cult crime writer responsible to heavy-weight hardbacks, Stieg Larsson, is Oxfam's 'most sold' author for the second time in a row. Both the 'most donated' and 'most sold' lists are dominated by crime fiction, trilogies and fantasy, with JK Rowling the only female author listed in either of the Top Fives. \n",
            " \n",
            " Click here or on \"View Gallery\" to see both charts in pictures ||||| A woman reads a copy of the newly released book ''The Lost Symbol'' by Dan Brown, at a speed reading book launch event in Sydney, September 15, 2009. REUTERS/Tim Wimborne \n",
            " \n",
            " SAN FRANCISCO The latest novel from \"Da Vinci Code\" author Dan Brown, \"The Lost Symbol,\" broke one-day sales records, its publisher and booksellers said. \n",
            " \n",
            " Readers snapped up over one million hardcover copies across the United States, Canada and the United Kingdom after it was released on Tuesday, said publisher Knopf Doubleday, a division of Random House Inc. \n",
            " \n",
            " \"We are seeing historic, record-breaking sales across all types of our accounts in North America for 'The Lost Symbol,\" said Sonny Mehta, editor in chief of Knopf Doubleday Publishing Group. Knopf Doubleday is a division of Random House Inc. \n",
            " \n",
            " Amazon.com Inc, the world's largest online retailer, called the book its bestselling first-day adult fiction title ever, including pre-orders. \n",
            " \n",
            " Barnes & Noble Inc said \"The Lost Symbol\" broke its previous one-day sales record for adult fiction. \n",
            " \n",
            " The success of the Dan Brown's latest is a boost to publisher Knopf Doubleday and booksellers, which have endured sliding sales in the midst of the recession. \n",
            " \n",
            " Booksellers have anxiously awaited a popular title that will resonate with readers and fuel the same sort of frenzy seen earlier this decade with the \"Harry Potter\" series, from author J.K. Rowling. \n",
            " \n",
            " But the $25 billion domestic book market has wallowed in a slump in recent years as more readers make their purchases online, or forego books altogether for online games and other forms of media and entertainment. \n",
            " \n",
            " Now, digital books and electronic reading devices such as Amazon's Kindle or Sony Corp's Reader are seen as both avenues of growth and sources of competition for traditional media, and publishers and booksellers are scrambling to respond. \n",
            " \n",
            " The highly anticipated book from Brown comes six years after the release of the American novelist's last book \"The Da Vinci Code\". It follows the adventures of Harvard professor Robert Langdon and is set in the secret world of Freemasons in Washington D.C. \n",
            " \n",
            " \"The Da Vinci Code\" sold 80 million copies worldwide. It was made into a film starring Tom Hanks that grossed more than $758 million, according to tracking firm Box Office Mojo. \n",
            " \n",
            " Shares of Amazon closed up $7.15 to $90.70 on the Nasdaq. Amazon was upgraded to a \"Buy\" rating by Bank of America Merrill Lynch, which cited a resurgence in e-commerce that would benefit the Seattle-based company. \n",
            " \n",
            " Barnes & Noble closed up 14 cents to $22.04 and book retailer Borders Group Inc closed up 2 cents to $3.29, on the New York Stock Exchange. \n",
            " \n",
            " (Reporting by Alexandria Sage; editing by Carol Bishopric) ||||| Bestselling author is also the most frequently given away to charity shops \n",
            " \n",
            " Dan Brown might be one of the world's bestselling authors but it turns out that readers aren't too keen on keeping his special blend of religious conspiracy and scholarly derring-do on their shelves once they've bought it. \n",
            " \n",
            " Brown, who has sold more than 81m copies of The Da Vinci Code worldwide, has been revealed as the most donated author to Oxfam's 700 high street shops. With just four books to his name – although his long-awaited fifth The Lost Symbol is published next month – Brown did well to see off competition from John Grisham, author of more than 20 and the second-most likely writer to be ditched in a charity shop by readers. \n",
            " \n",
            " But as secondhand bookshop shelves flood with battered editions of Angels and Demons and Digital Fortress, Brown can comfort himself with the fact that he's also Oxfam's second most bought author: there are, apparently, still readers out there who have yet to follow the adventures of the dapper symbologist Robert Langdon. There's no such consolation for Grisham, whose legal thrillers fail to make Oxfam's bestseller charts at all. \n",
            " \n",
            " \"There's no question that when you go into the back room of Oxfam shops there are many Dan Brown books,\" said Oxfam's director of trading David McCullough. \"But he's also very high on the bestseller list so there is a useful recycling exercise going on – it's not just people saying 'I've read The Da Vinci Code and now I must get rid of it'.\" \n",
            " \n",
            " Ian Rankin, whose dour, boozy detective John Rebus is no Robert Langdon, tops Oxfam's bestseller list, which the charity says is the first ever high-street secondhand bestseller chart. \"It's always good for an author to know that their books are popular,\" said the Scottish author, who will unveil a new policeman hero, the teetotal Malcolm Fox, next month. \"With Oxfam, it's also heartening to realise that each book donated and bought is helping such a worthwhile organisation.\" \n",
            " \n",
            " Stephenie Meyer, author of the Twilight series and instigator of myriad teenage crushes courtesy of her sparkly vampire hero Edward Cullen, is also sitting high in Oxfam's charts, nestling between Bernard Cornwell and Terry Pratchett. \n",
            " \n",
            " Margaret Atwood, meanwhile, winner of the Booker prize and author of a host of critically acclaimed works of fiction, scrapes into the list in eighth place, keeping unlikely company with thriller powerhouse James Patterson – currently producing at least eight books a year thanks to a horde of co-writers – and Jodi Picoult, never afraid to jerk a tear or pile on the plot twists. \n",
            " \n",
            " \"We just need to dispel the idea that we are sitting there in Oxfam with only first editions of literary gems – actually we've got shelves of really good fiction,\" said McCullough. \"Waterstone's might be more upset than secondhand booksellers,\" he added, referring to the recent slew of complaints from secondhand booksellers that the charity is stealing their business. \n",
            " \n",
            " Oxfam, Europe's biggest high-street retailer of secondhand books and the third-biggest bookseller in the UK, launched a drive for book donations in May ahead of its first national book festival, Bookfest, in July. Authors including Joanna Trollope, Philip Pullman and Jonathan Coe all lent a hand in shops across the country as part of the festival, and the drive saw book donations rise 40%, with sales up by more than 10%. \n",
            " \n",
            " Rare books and first editions have also been pouring into shops since May. Ten of the most sought-after editions have raised more than £4,500 for the charity between them. A first edition of Lord of the Rings sold for £800, a first edition of Watership Down brought in £500, Sylvia Plath's Ariel sold for £350, Ian Fleming's From Russia With Love for £300 and a second printing of Martin Chuzzlewit for £200. \n",
            " \n",
            " Oxfam, which has more than 130 specialist bookshops and stocks books in almost all of its 700 stores, sells £1.6m-worth of books a month – equivalent, it says, to 50,000 emergency shelters, 64,000 goats or safe water for 2.1 million people. \n",
            " \n",
            " The most donated authors to Oxfam shops so far this year: \n",
            " \n",
            " 1. Dan Brown \n",
            " \n",
            " 2. John Grisham \n",
            " \n",
            " 3. Ian Rankin \n",
            " \n",
            " 4. Danielle Steel \n",
            " \n",
            " 5. Helen Fielding \n",
            " \n",
            " 6. Stephen King \n",
            " \n",
            " 7. JK Rowling \n",
            " \n",
            " 8. Catherine Cookson \n",
            " \n",
            " 9. Patricia Cornwell \n",
            " \n",
            " 10. Mills & Boon \n",
            " \n",
            " The Oxfam shop bestseller list: \n",
            " \n",
            " 1. Ian Rankin \n",
            " \n",
            " 2. Dan Brown \n",
            " \n",
            " 3. Bernard Cornwell \n",
            " \n",
            " 4. Stephanie Meyer \n",
            " \n",
            " 5. Terry Pratchett \n",
            " \n",
            " 6. Khaled Hosseini \n",
            " \n",
            " 7. Helen Fielding \n",
            " \n",
            " 8. Margaret Atwood \n",
            " \n",
            " 9. James Patterson \n",
            " \n",
            " 10. Jodi Picoult \n",
            " \n",
            " The top 10 most valuable donated books since May: \n",
            " \n",
            " 1. JRR Tolkien, Lord of the Rings – first edition, sold for £800 \n",
            " \n",
            " 2. Don Giovanni sheet music – first edition, sold for £750 \n",
            " \n",
            " 3. Sowerby's Catalogue of Shells – sold for £600 \n",
            " \n",
            " 4. Richard Adams, Watership Down – first edition, sold for £500 \n",
            " \n",
            " 5. Handbook of Indian Dances - first edition with hand-blocked prints, sold for £500 \n",
            " \n",
            " 6. Richmal Crompton, Just William - first edition, sold for £440 \n",
            " \n",
            " 7. Sylvia Plath, Ariel – first edition, sold for £350 \n",
            " \n",
            " 8. Ian Fleming, From Russia With Love – first edition, sold for £300 \n",
            " \n",
            " 9. Charles Dickens, Martin Chuzzlewit – second print, sold for £200 \n",
            " \n",
            " 10. WE Johns, Biggles in Australia – first edition, sold for £150 ||||| A charity shop is urging people to stop donating The Da Vinci Code after becoming overwhelmed with copies. \n",
            " \n",
            " The Oxfam shop in Swansea has been receiving an average of one copy of the Dan Brown novel a week for months, leaving them with little room for any other books. \n",
            " \n",
            " Staff who are struggling to sell copies of the book have put a note up in the store saying they would rather donors hand in their vinyl instead.\n",
            "Generated Summary: Whether a sign of a good read; or a comment on the 'pulp' nature of some genres of fiction, the Oxfam second-hand book charts have remained in The Da Vinci Code author's favour for the past four years, the New York Times reports. Dan Brown's latest book, The Lost Symbol, has sold more than 80 million copies worldwide, and has all four of his novels on the best-seller list in the same week, the AP reports. The book, which Brown's publisher and booksellers say is a boost to publisher Knopf Doubleday, which has been struggling with declining\n"
          ]
        }
      ]
    },
    {
      "cell_type": "markdown",
      "source": [
        "Comparing the results with previous (first, unmodified) model **bart_model**"
      ],
      "metadata": {
        "id": "FB5LTtV0Arua"
      }
    },
    {
      "cell_type": "code",
      "source": [
        "# Check the current working directory\n",
        "print(\"Current Directory:\", os.getcwd())\n",
        "\n",
        "# Files in the model directory - to find out the most recent checkpoint:\n",
        "model_dir = \"./bart_model\"\n",
        "print(\"Files in model directory:\", os.listdir(model_dir))"
      ],
      "metadata": {
        "colab": {
          "base_uri": "https://localhost:8080/"
        },
        "id": "nl0u1Yuf8Uh5",
        "outputId": "de83afe2-d6fb-4d37-bcec-459d1e1acf0f"
      },
      "execution_count": null,
      "outputs": [
        {
          "output_type": "stream",
          "name": "stdout",
          "text": [
            "Current Directory: /content\n",
            "Files in model directory: ['checkpoint-2000', 'runs', 'checkpoint-1500', 'checkpoint-1000']\n"
          ]
        }
      ]
    },
    {
      "cell_type": "code",
      "source": [
        "model_dir = \"./bart_model/checkpoint-2000\"\n",
        "print(\"Files in model directory:\", os.listdir(model_dir))"
      ],
      "metadata": {
        "colab": {
          "base_uri": "https://localhost:8080/"
        },
        "id": "NHXFiv4h8Uew",
        "outputId": "eafa6f0d-6b91-4413-bed3-ec2116fa3d71"
      },
      "execution_count": null,
      "outputs": [
        {
          "output_type": "stream",
          "name": "stdout",
          "text": [
            "Files in model directory: ['model.safetensors', 'config.json', 'vocab.json', 'merges.txt', 'tokenizer_config.json', 'rng_state.pth', 'trainer_state.json', 'training_args.bin', 'scheduler.pt', 'special_tokens_map.json', 'generation_config.json', 'optimizer.pt']\n"
          ]
        }
      ]
    },
    {
      "cell_type": "code",
      "source": [
        "from transformers import BartTokenizer, BartForConditionalGeneration, pipeline\n",
        "\n",
        "# Make sure you're using the correct model checkpoint\n",
        "model_path = './bart_model/checkpoint-2000'\n",
        "\n",
        "# Load the tokenizer and model\n",
        "tokenizer = BartTokenizer.from_pretrained(model_path)\n",
        "model = BartForConditionalGeneration.from_pretrained(model_path)\n",
        "\n",
        "# Initialize the summarizer pipeline\n",
        "summarizer = pipeline(\"summarization\", model=model, tokenizer=tokenizer)\n",
        "\n",
        "# Get a sample document from your dataset\n",
        "sample_text = dataset['validation'][0]['document']\n",
        "\n",
        "# Tokenize the text and truncate it to the appropriate length\n",
        "inputs = tokenizer.encode(sample_text, return_tensors='pt', max_length=1024, truncation=True)\n",
        "\n",
        "# Generate summary tokens\n",
        "summary_ids = model.generate(inputs, max_length=150, min_length=40, length_penalty=2.0, num_beams=4, early_stopping=True)\n",
        "\n",
        "# Decode the generated summary tokens to text\n",
        "summary_text = tokenizer.decode(summary_ids[0], skip_special_tokens=True)\n",
        "\n",
        "print(f\"Original Text: {sample_text}\")\n",
        "print(f\"Generated Summary: {summary_text}\")"
      ],
      "metadata": {
        "id": "wI5ocSV4HYDc",
        "colab": {
          "base_uri": "https://localhost:8080/"
        },
        "outputId": "09dd43a2-c394-4874-db71-8b24e40151d4"
      },
      "execution_count": null,
      "outputs": [
        {
          "output_type": "stream",
          "name": "stdout",
          "text": [
            "Original Text: Whether a sign of a good read; or a comment on the 'pulp' nature of some genres of fiction, the Oxfam second-hand book charts have remained in The Da Vinci Code author's favour for the past four years. \n",
            " \n",
            " Dan Brown has topped Oxfam's 'most donated' list again, his fourth consecutive year. Having sold more than 80 million copies of The Da Vinci Code and had all four of his novels on the New York Times bestseller list in the same week, it's hardly surprising that Brown's hefty tomes are being donated to charity by readers keen to make some room on their shelves. \n",
            " \n",
            " Another cult crime writer responsible to heavy-weight hardbacks, Stieg Larsson, is Oxfam's 'most sold' author for the second time in a row. Both the 'most donated' and 'most sold' lists are dominated by crime fiction, trilogies and fantasy, with JK Rowling the only female author listed in either of the Top Fives. \n",
            " \n",
            " Click here or on \"View Gallery\" to see both charts in pictures ||||| A woman reads a copy of the newly released book ''The Lost Symbol'' by Dan Brown, at a speed reading book launch event in Sydney, September 15, 2009. REUTERS/Tim Wimborne \n",
            " \n",
            " SAN FRANCISCO The latest novel from \"Da Vinci Code\" author Dan Brown, \"The Lost Symbol,\" broke one-day sales records, its publisher and booksellers said. \n",
            " \n",
            " Readers snapped up over one million hardcover copies across the United States, Canada and the United Kingdom after it was released on Tuesday, said publisher Knopf Doubleday, a division of Random House Inc. \n",
            " \n",
            " \"We are seeing historic, record-breaking sales across all types of our accounts in North America for 'The Lost Symbol,\" said Sonny Mehta, editor in chief of Knopf Doubleday Publishing Group. Knopf Doubleday is a division of Random House Inc. \n",
            " \n",
            " Amazon.com Inc, the world's largest online retailer, called the book its bestselling first-day adult fiction title ever, including pre-orders. \n",
            " \n",
            " Barnes & Noble Inc said \"The Lost Symbol\" broke its previous one-day sales record for adult fiction. \n",
            " \n",
            " The success of the Dan Brown's latest is a boost to publisher Knopf Doubleday and booksellers, which have endured sliding sales in the midst of the recession. \n",
            " \n",
            " Booksellers have anxiously awaited a popular title that will resonate with readers and fuel the same sort of frenzy seen earlier this decade with the \"Harry Potter\" series, from author J.K. Rowling. \n",
            " \n",
            " But the $25 billion domestic book market has wallowed in a slump in recent years as more readers make their purchases online, or forego books altogether for online games and other forms of media and entertainment. \n",
            " \n",
            " Now, digital books and electronic reading devices such as Amazon's Kindle or Sony Corp's Reader are seen as both avenues of growth and sources of competition for traditional media, and publishers and booksellers are scrambling to respond. \n",
            " \n",
            " The highly anticipated book from Brown comes six years after the release of the American novelist's last book \"The Da Vinci Code\". It follows the adventures of Harvard professor Robert Langdon and is set in the secret world of Freemasons in Washington D.C. \n",
            " \n",
            " \"The Da Vinci Code\" sold 80 million copies worldwide. It was made into a film starring Tom Hanks that grossed more than $758 million, according to tracking firm Box Office Mojo. \n",
            " \n",
            " Shares of Amazon closed up $7.15 to $90.70 on the Nasdaq. Amazon was upgraded to a \"Buy\" rating by Bank of America Merrill Lynch, which cited a resurgence in e-commerce that would benefit the Seattle-based company. \n",
            " \n",
            " Barnes & Noble closed up 14 cents to $22.04 and book retailer Borders Group Inc closed up 2 cents to $3.29, on the New York Stock Exchange. \n",
            " \n",
            " (Reporting by Alexandria Sage; editing by Carol Bishopric) ||||| Bestselling author is also the most frequently given away to charity shops \n",
            " \n",
            " Dan Brown might be one of the world's bestselling authors but it turns out that readers aren't too keen on keeping his special blend of religious conspiracy and scholarly derring-do on their shelves once they've bought it. \n",
            " \n",
            " Brown, who has sold more than 81m copies of The Da Vinci Code worldwide, has been revealed as the most donated author to Oxfam's 700 high street shops. With just four books to his name – although his long-awaited fifth The Lost Symbol is published next month – Brown did well to see off competition from John Grisham, author of more than 20 and the second-most likely writer to be ditched in a charity shop by readers. \n",
            " \n",
            " But as secondhand bookshop shelves flood with battered editions of Angels and Demons and Digital Fortress, Brown can comfort himself with the fact that he's also Oxfam's second most bought author: there are, apparently, still readers out there who have yet to follow the adventures of the dapper symbologist Robert Langdon. There's no such consolation for Grisham, whose legal thrillers fail to make Oxfam's bestseller charts at all. \n",
            " \n",
            " \"There's no question that when you go into the back room of Oxfam shops there are many Dan Brown books,\" said Oxfam's director of trading David McCullough. \"But he's also very high on the bestseller list so there is a useful recycling exercise going on – it's not just people saying 'I've read The Da Vinci Code and now I must get rid of it'.\" \n",
            " \n",
            " Ian Rankin, whose dour, boozy detective John Rebus is no Robert Langdon, tops Oxfam's bestseller list, which the charity says is the first ever high-street secondhand bestseller chart. \"It's always good for an author to know that their books are popular,\" said the Scottish author, who will unveil a new policeman hero, the teetotal Malcolm Fox, next month. \"With Oxfam, it's also heartening to realise that each book donated and bought is helping such a worthwhile organisation.\" \n",
            " \n",
            " Stephenie Meyer, author of the Twilight series and instigator of myriad teenage crushes courtesy of her sparkly vampire hero Edward Cullen, is also sitting high in Oxfam's charts, nestling between Bernard Cornwell and Terry Pratchett. \n",
            " \n",
            " Margaret Atwood, meanwhile, winner of the Booker prize and author of a host of critically acclaimed works of fiction, scrapes into the list in eighth place, keeping unlikely company with thriller powerhouse James Patterson – currently producing at least eight books a year thanks to a horde of co-writers – and Jodi Picoult, never afraid to jerk a tear or pile on the plot twists. \n",
            " \n",
            " \"We just need to dispel the idea that we are sitting there in Oxfam with only first editions of literary gems – actually we've got shelves of really good fiction,\" said McCullough. \"Waterstone's might be more upset than secondhand booksellers,\" he added, referring to the recent slew of complaints from secondhand booksellers that the charity is stealing their business. \n",
            " \n",
            " Oxfam, Europe's biggest high-street retailer of secondhand books and the third-biggest bookseller in the UK, launched a drive for book donations in May ahead of its first national book festival, Bookfest, in July. Authors including Joanna Trollope, Philip Pullman and Jonathan Coe all lent a hand in shops across the country as part of the festival, and the drive saw book donations rise 40%, with sales up by more than 10%. \n",
            " \n",
            " Rare books and first editions have also been pouring into shops since May. Ten of the most sought-after editions have raised more than £4,500 for the charity between them. A first edition of Lord of the Rings sold for £800, a first edition of Watership Down brought in £500, Sylvia Plath's Ariel sold for £350, Ian Fleming's From Russia With Love for £300 and a second printing of Martin Chuzzlewit for £200. \n",
            " \n",
            " Oxfam, which has more than 130 specialist bookshops and stocks books in almost all of its 700 stores, sells £1.6m-worth of books a month – equivalent, it says, to 50,000 emergency shelters, 64,000 goats or safe water for 2.1 million people. \n",
            " \n",
            " The most donated authors to Oxfam shops so far this year: \n",
            " \n",
            " 1. Dan Brown \n",
            " \n",
            " 2. John Grisham \n",
            " \n",
            " 3. Ian Rankin \n",
            " \n",
            " 4. Danielle Steel \n",
            " \n",
            " 5. Helen Fielding \n",
            " \n",
            " 6. Stephen King \n",
            " \n",
            " 7. JK Rowling \n",
            " \n",
            " 8. Catherine Cookson \n",
            " \n",
            " 9. Patricia Cornwell \n",
            " \n",
            " 10. Mills & Boon \n",
            " \n",
            " The Oxfam shop bestseller list: \n",
            " \n",
            " 1. Ian Rankin \n",
            " \n",
            " 2. Dan Brown \n",
            " \n",
            " 3. Bernard Cornwell \n",
            " \n",
            " 4. Stephanie Meyer \n",
            " \n",
            " 5. Terry Pratchett \n",
            " \n",
            " 6. Khaled Hosseini \n",
            " \n",
            " 7. Helen Fielding \n",
            " \n",
            " 8. Margaret Atwood \n",
            " \n",
            " 9. James Patterson \n",
            " \n",
            " 10. Jodi Picoult \n",
            " \n",
            " The top 10 most valuable donated books since May: \n",
            " \n",
            " 1. JRR Tolkien, Lord of the Rings – first edition, sold for £800 \n",
            " \n",
            " 2. Don Giovanni sheet music – first edition, sold for £750 \n",
            " \n",
            " 3. Sowerby's Catalogue of Shells – sold for £600 \n",
            " \n",
            " 4. Richard Adams, Watership Down – first edition, sold for £500 \n",
            " \n",
            " 5. Handbook of Indian Dances - first edition with hand-blocked prints, sold for £500 \n",
            " \n",
            " 6. Richmal Crompton, Just William - first edition, sold for £440 \n",
            " \n",
            " 7. Sylvia Plath, Ariel – first edition, sold for £350 \n",
            " \n",
            " 8. Ian Fleming, From Russia With Love – first edition, sold for £300 \n",
            " \n",
            " 9. Charles Dickens, Martin Chuzzlewit – second print, sold for £200 \n",
            " \n",
            " 10. WE Johns, Biggles in Australia – first edition, sold for £150 ||||| A charity shop is urging people to stop donating The Da Vinci Code after becoming overwhelmed with copies. \n",
            " \n",
            " The Oxfam shop in Swansea has been receiving an average of one copy of the Dan Brown novel a week for months, leaving them with little room for any other books. \n",
            " \n",
            " Staff who are struggling to sell copies of the book have put a note up in the store saying they would rather donors hand in their vinyl instead.\n",
            "Generated Summary: Whether a sign of a good read; or a comment on the 'pulp' nature of some genres of fiction, the Oxfam second-hand book charts have remained in The Da Vinci Code author's favour for the past four years. The book has sold more than 80 million copies worldwide, with all four of his novels on the New York Times bestseller list in the same week, reports the Wall Street Journal. It's hardly surprising that Brown's hefty tomes are being donated to charity by readers keen to make some room on their shelves. Another cult crime writer responsible to heavy-weight hardbacks, Stieg Larsson, is Oxfam's'most sold' author for the second time in\n"
          ]
        }
      ]
    }
  ]
}